{
  "nbformat": 4,
  "nbformat_minor": 0,
  "metadata": {
    "colab": {
      "provenance": [],
      "collapsed_sections": [
        "xo_ag5jWG3zF",
        "llIltUzpHE-t",
        "8UdwdeT-6_hl"
      ],
      "include_colab_link": true
    },
    "kernelspec": {
      "name": "python3",
      "display_name": "Python 3"
    },
    "language_info": {
      "name": "python"
    }
  },
  "cells": [
    {
      "cell_type": "markdown",
      "metadata": {
        "id": "view-in-github",
        "colab_type": "text"
      },
      "source": [
        "<a href=\"https://colab.research.google.com/github/weichuzou/B6-Analysis-of-Influencing-Factors-in-Global-Film-Rating/blob/main/B6_Analysis_of_Influencing_Factors_in_Global_Film_Rating.ipynb\" target=\"_parent\"><img src=\"https://colab.research.google.com/assets/colab-badge.svg\" alt=\"Open In Colab\"/></a>"
      ]
    },
    {
      "cell_type": "markdown",
      "source": [
        "# **Analysis of Influencing Factors in Global Film Rating**\n"
      ],
      "metadata": {
        "id": "yXpWGvj9hPBQ"
      }
    },
    {
      "cell_type": "markdown",
      "source": [
        "##**1.Problem Definition**\n",
        "\n",
        "**Project Proposal:** Improving the rating of a movie/TV series will inevitably increase its box office revenue, and understanding the different factors contributing to a movie’s high rating explains its success. We look at over 2.5 million rows of movies and TV series from the IMDB website to understand people's preferences in a show’s composition, and we also look for ways to increase a show’s rating based on selected data. In addition, we analyze the relationship between the rating of movies and their compositions (duration/votes/certificate/etc.) to provide recommendations to increase revenue for production companies.\n",
        "<br>\n",
        "<br>\n",
        "**Data Source:**\n",
        "\n",
        "*Raw Data Website:*\n",
        "<br>\n",
        "__[IMDB Official Dataset Interface](https://www.imdb.com/interfaces/)__\n",
        "<br>\n",
        "*Raw Data Source:*\n",
        "<br>\n",
        "__[IMDB Official Dataset](https://datasets.imdbws.com/)__\n",
        "<br>\n",
        "*Modified Data:*\n",
        "<br>\n",
        "__[IMDB Dataset Modified on Kaggle.com](https://www.kaggle.com/datasets/ashishjangra27/imdb-movies-dataset)__\n",
        "\t\t\n",
        "\n",
        "*Note:* the raw data is from IMDB official website, and the data on Kaggle is modified by Ashish Jangra, a data scientist from Noida, India. \n",
        "<br>\n",
        "<br>\n",
        "**Motivation:**\n",
        "Films and television series are entertainment topics closely related to people’s lives. By analyzing various factors contributing to a successful film, it is meaningful to discover how a movie/series should be produced that is preferred by spectators while bringing the most revenue to the companies producing it. Although it sounds ideal initially, producing an attractive and profitable show with data analytics is not without precedents, such as the success of Netflix’s House of Cards was based on extensive analytics on viewer data. \n",
        "<br>\n",
        "<br>\n",
        "**Report Summary:**\n",
        "By examining the effects of `genre`, `certificate`, `duration`, and director on the rating of works, we draw the conclusion that, starting in 2008, consumers began to favor TV dramas over action movies as their preferred genre.Therefore, the talk show reappearance may be more popular with the audience. TV shows typically have high average ratings over relatively short periods of time in the certificates, but movies typically have low average ratings during longer average durations. TV shows may therefore earn more money when production costs are not taken into account. We draw the conclusion that the quantity of films a director produces has no bearing on the quality of those films based on the findings of our survey of directors. As a result, the quantity of a filmmaker's film and television productions need not be a major consideration when a film or television company selects a director."
      ],
      "metadata": {
        "id": "-HD_7gJdxj90"
      }
    },
    {
      "cell_type": "code",
      "source": [
        "# Import packages\n",
        "import seaborn as sns\n",
        "import matplotlib.pyplot as plt\n",
        "import pandas as pd\n",
        "import numpy as np\n",
        "import missingno as msno"
      ],
      "metadata": {
        "id": "R9dbVk-6hoqz"
      },
      "execution_count": 1,
      "outputs": []
    },
    {
      "cell_type": "code",
      "source": [
        "# Mount gdrive and read dataset from gdrive\n",
        "from google.colab import drive\n",
        "drive.mount('/content/drive')\n",
        "df = pd.read_csv('/content/drive/My Drive/ba780/team project/movies.csv')\n",
        "df.head()"
      ],
      "metadata": {
        "id": "HCFZA8jEiVz4",
        "colab": {
          "base_uri": "https://localhost:8080/",
          "height": 636
        },
        "outputId": "972c83ec-9aa7-4b38-cee2-9ac4f7a87c85"
      },
      "execution_count": 2,
      "outputs": [
        {
          "output_type": "stream",
          "name": "stdout",
          "text": [
            "Mounted at /content/drive\n"
          ]
        },
        {
          "output_type": "stream",
          "name": "stderr",
          "text": [
            "/usr/local/lib/python3.8/dist-packages/IPython/core/interactiveshell.py:3326: DtypeWarning: Columns (7,8) have mixed types.Specify dtype option on import or set low_memory=False.\n",
            "  exec(code_obj, self.user_global_ns, self.user_ns)\n"
          ]
        },
        {
          "output_type": "execute_result",
          "data": {
            "text/plain": [
              "          id                          name               year  rating  \\\n",
              "0  tt4710316  Best in Sex: 2015 AVN Awards  (2015 TV Special)     4.0   \n",
              "1  tt1281857              Naughty Novelist       (2008 Video)     3.8   \n",
              "2  tt2294954          2011 AVN Awards Show  (2011 TV Special)     5.7   \n",
              "3  tt6843596  Best in Sex: 2017 AVN Awards  (2017 TV Special)     4.9   \n",
              "4  tt3705604               AVN Awards 2014  (2014 TV Special)     6.7   \n",
              "\n",
              "     certificate duration        genre  votes gross_income  \\\n",
              "0          TV-MA   94 min  Adult, News  124.0            0   \n",
              "1  Not Certified   88 min        Adult  174.0            0   \n",
              "2  Not Certified   83 min  Adult, News   39.0            0   \n",
              "3          TV-MA   87 min  Adult, News  225.0            0   \n",
              "4              R   82 min  Adult, News  101.0            0   \n",
              "\n",
              "          directors_id               directors_name  \\\n",
              "0            nm1624094                  Gary Miller   \n",
              "1            nm0045256                 John Bacchus   \n",
              "2  nm1624094,nm0754845  Gary Miller,Timothy E. Sabo   \n",
              "3            nm1624094                  Gary Miller   \n",
              "4            nm1624094                  Gary Miller   \n",
              "\n",
              "                                  stars_id  \\\n",
              "0  nm4766272,nm2670531,nm4920605,nm6284246   \n",
              "1  nm0128986,nm1969196,nm0451160,nm6130462   \n",
              "2  nm2200343,nm2670531,nm1267549,nm3585599   \n",
              "3  nm5221471,nm2670531,nm4920605,nm3038816   \n",
              "4  nm2670531,nm4920605,nm6284246,nm3992720   \n",
              "\n",
              "                                          stars_name  \\\n",
              "0  Farrah Laurel Abraham,Asa Akira,Anikka Albrite...   \n",
              "1       Darian Caine,Jackie Stevens,A.J. Khan,Arrora   \n",
              "2  Aubrey Addams,Asa Akira,Monique Alexander,Rave...   \n",
              "3  Amirah Adara,Asa Akira,Anikka Albrite,Britney ...   \n",
              "4  Asa Akira,Anikka Albrite,August Ames,Jessie An...   \n",
              "\n",
              "                                         description  \n",
              "0  The hottest adult stars and top adult movies a...  \n",
              "1  Darian is a successful journalist but when she...  \n",
              "2                                         Add a Plot  \n",
              "3  Considered the industry's highest honor, the A...  \n",
              "4  Erotic filmmaking superstars Chanel Preston an...  "
            ],
            "text/html": [
              "\n",
              "  <div id=\"df-4985045a-a99b-4e08-9823-0dc8a04ad8aa\">\n",
              "    <div class=\"colab-df-container\">\n",
              "      <div>\n",
              "<style scoped>\n",
              "    .dataframe tbody tr th:only-of-type {\n",
              "        vertical-align: middle;\n",
              "    }\n",
              "\n",
              "    .dataframe tbody tr th {\n",
              "        vertical-align: top;\n",
              "    }\n",
              "\n",
              "    .dataframe thead th {\n",
              "        text-align: right;\n",
              "    }\n",
              "</style>\n",
              "<table border=\"1\" class=\"dataframe\">\n",
              "  <thead>\n",
              "    <tr style=\"text-align: right;\">\n",
              "      <th></th>\n",
              "      <th>id</th>\n",
              "      <th>name</th>\n",
              "      <th>year</th>\n",
              "      <th>rating</th>\n",
              "      <th>certificate</th>\n",
              "      <th>duration</th>\n",
              "      <th>genre</th>\n",
              "      <th>votes</th>\n",
              "      <th>gross_income</th>\n",
              "      <th>directors_id</th>\n",
              "      <th>directors_name</th>\n",
              "      <th>stars_id</th>\n",
              "      <th>stars_name</th>\n",
              "      <th>description</th>\n",
              "    </tr>\n",
              "  </thead>\n",
              "  <tbody>\n",
              "    <tr>\n",
              "      <th>0</th>\n",
              "      <td>tt4710316</td>\n",
              "      <td>Best in Sex: 2015 AVN Awards</td>\n",
              "      <td>(2015 TV Special)</td>\n",
              "      <td>4.0</td>\n",
              "      <td>TV-MA</td>\n",
              "      <td>94 min</td>\n",
              "      <td>Adult, News</td>\n",
              "      <td>124.0</td>\n",
              "      <td>0</td>\n",
              "      <td>nm1624094</td>\n",
              "      <td>Gary Miller</td>\n",
              "      <td>nm4766272,nm2670531,nm4920605,nm6284246</td>\n",
              "      <td>Farrah Laurel Abraham,Asa Akira,Anikka Albrite...</td>\n",
              "      <td>The hottest adult stars and top adult movies a...</td>\n",
              "    </tr>\n",
              "    <tr>\n",
              "      <th>1</th>\n",
              "      <td>tt1281857</td>\n",
              "      <td>Naughty Novelist</td>\n",
              "      <td>(2008 Video)</td>\n",
              "      <td>3.8</td>\n",
              "      <td>Not Certified</td>\n",
              "      <td>88 min</td>\n",
              "      <td>Adult</td>\n",
              "      <td>174.0</td>\n",
              "      <td>0</td>\n",
              "      <td>nm0045256</td>\n",
              "      <td>John Bacchus</td>\n",
              "      <td>nm0128986,nm1969196,nm0451160,nm6130462</td>\n",
              "      <td>Darian Caine,Jackie Stevens,A.J. Khan,Arrora</td>\n",
              "      <td>Darian is a successful journalist but when she...</td>\n",
              "    </tr>\n",
              "    <tr>\n",
              "      <th>2</th>\n",
              "      <td>tt2294954</td>\n",
              "      <td>2011 AVN Awards Show</td>\n",
              "      <td>(2011 TV Special)</td>\n",
              "      <td>5.7</td>\n",
              "      <td>Not Certified</td>\n",
              "      <td>83 min</td>\n",
              "      <td>Adult, News</td>\n",
              "      <td>39.0</td>\n",
              "      <td>0</td>\n",
              "      <td>nm1624094,nm0754845</td>\n",
              "      <td>Gary Miller,Timothy E. Sabo</td>\n",
              "      <td>nm2200343,nm2670531,nm1267549,nm3585599</td>\n",
              "      <td>Aubrey Addams,Asa Akira,Monique Alexander,Rave...</td>\n",
              "      <td>Add a Plot</td>\n",
              "    </tr>\n",
              "    <tr>\n",
              "      <th>3</th>\n",
              "      <td>tt6843596</td>\n",
              "      <td>Best in Sex: 2017 AVN Awards</td>\n",
              "      <td>(2017 TV Special)</td>\n",
              "      <td>4.9</td>\n",
              "      <td>TV-MA</td>\n",
              "      <td>87 min</td>\n",
              "      <td>Adult, News</td>\n",
              "      <td>225.0</td>\n",
              "      <td>0</td>\n",
              "      <td>nm1624094</td>\n",
              "      <td>Gary Miller</td>\n",
              "      <td>nm5221471,nm2670531,nm4920605,nm3038816</td>\n",
              "      <td>Amirah Adara,Asa Akira,Anikka Albrite,Britney ...</td>\n",
              "      <td>Considered the industry's highest honor, the A...</td>\n",
              "    </tr>\n",
              "    <tr>\n",
              "      <th>4</th>\n",
              "      <td>tt3705604</td>\n",
              "      <td>AVN Awards 2014</td>\n",
              "      <td>(2014 TV Special)</td>\n",
              "      <td>6.7</td>\n",
              "      <td>R</td>\n",
              "      <td>82 min</td>\n",
              "      <td>Adult, News</td>\n",
              "      <td>101.0</td>\n",
              "      <td>0</td>\n",
              "      <td>nm1624094</td>\n",
              "      <td>Gary Miller</td>\n",
              "      <td>nm2670531,nm4920605,nm6284246,nm3992720</td>\n",
              "      <td>Asa Akira,Anikka Albrite,August Ames,Jessie An...</td>\n",
              "      <td>Erotic filmmaking superstars Chanel Preston an...</td>\n",
              "    </tr>\n",
              "  </tbody>\n",
              "</table>\n",
              "</div>\n",
              "      <button class=\"colab-df-convert\" onclick=\"convertToInteractive('df-4985045a-a99b-4e08-9823-0dc8a04ad8aa')\"\n",
              "              title=\"Convert this dataframe to an interactive table.\"\n",
              "              style=\"display:none;\">\n",
              "        \n",
              "  <svg xmlns=\"http://www.w3.org/2000/svg\" height=\"24px\"viewBox=\"0 0 24 24\"\n",
              "       width=\"24px\">\n",
              "    <path d=\"M0 0h24v24H0V0z\" fill=\"none\"/>\n",
              "    <path d=\"M18.56 5.44l.94 2.06.94-2.06 2.06-.94-2.06-.94-.94-2.06-.94 2.06-2.06.94zm-11 1L8.5 8.5l.94-2.06 2.06-.94-2.06-.94L8.5 2.5l-.94 2.06-2.06.94zm10 10l.94 2.06.94-2.06 2.06-.94-2.06-.94-.94-2.06-.94 2.06-2.06.94z\"/><path d=\"M17.41 7.96l-1.37-1.37c-.4-.4-.92-.59-1.43-.59-.52 0-1.04.2-1.43.59L10.3 9.45l-7.72 7.72c-.78.78-.78 2.05 0 2.83L4 21.41c.39.39.9.59 1.41.59.51 0 1.02-.2 1.41-.59l7.78-7.78 2.81-2.81c.8-.78.8-2.07 0-2.86zM5.41 20L4 18.59l7.72-7.72 1.47 1.35L5.41 20z\"/>\n",
              "  </svg>\n",
              "      </button>\n",
              "      \n",
              "  <style>\n",
              "    .colab-df-container {\n",
              "      display:flex;\n",
              "      flex-wrap:wrap;\n",
              "      gap: 12px;\n",
              "    }\n",
              "\n",
              "    .colab-df-convert {\n",
              "      background-color: #E8F0FE;\n",
              "      border: none;\n",
              "      border-radius: 50%;\n",
              "      cursor: pointer;\n",
              "      display: none;\n",
              "      fill: #1967D2;\n",
              "      height: 32px;\n",
              "      padding: 0 0 0 0;\n",
              "      width: 32px;\n",
              "    }\n",
              "\n",
              "    .colab-df-convert:hover {\n",
              "      background-color: #E2EBFA;\n",
              "      box-shadow: 0px 1px 2px rgba(60, 64, 67, 0.3), 0px 1px 3px 1px rgba(60, 64, 67, 0.15);\n",
              "      fill: #174EA6;\n",
              "    }\n",
              "\n",
              "    [theme=dark] .colab-df-convert {\n",
              "      background-color: #3B4455;\n",
              "      fill: #D2E3FC;\n",
              "    }\n",
              "\n",
              "    [theme=dark] .colab-df-convert:hover {\n",
              "      background-color: #434B5C;\n",
              "      box-shadow: 0px 1px 3px 1px rgba(0, 0, 0, 0.15);\n",
              "      filter: drop-shadow(0px 1px 2px rgba(0, 0, 0, 0.3));\n",
              "      fill: #FFFFFF;\n",
              "    }\n",
              "  </style>\n",
              "\n",
              "      <script>\n",
              "        const buttonEl =\n",
              "          document.querySelector('#df-4985045a-a99b-4e08-9823-0dc8a04ad8aa button.colab-df-convert');\n",
              "        buttonEl.style.display =\n",
              "          google.colab.kernel.accessAllowed ? 'block' : 'none';\n",
              "\n",
              "        async function convertToInteractive(key) {\n",
              "          const element = document.querySelector('#df-4985045a-a99b-4e08-9823-0dc8a04ad8aa');\n",
              "          const dataTable =\n",
              "            await google.colab.kernel.invokeFunction('convertToInteractive',\n",
              "                                                     [key], {});\n",
              "          if (!dataTable) return;\n",
              "\n",
              "          const docLinkHtml = 'Like what you see? Visit the ' +\n",
              "            '<a target=\"_blank\" href=https://colab.research.google.com/notebooks/data_table.ipynb>data table notebook</a>'\n",
              "            + ' to learn more about interactive tables.';\n",
              "          element.innerHTML = '';\n",
              "          dataTable['output_type'] = 'display_data';\n",
              "          await google.colab.output.renderOutput(dataTable, element);\n",
              "          const docLink = document.createElement('div');\n",
              "          docLink.innerHTML = docLinkHtml;\n",
              "          element.appendChild(docLink);\n",
              "        }\n",
              "      </script>\n",
              "    </div>\n",
              "  </div>\n",
              "  "
            ]
          },
          "metadata": {},
          "execution_count": 2
        }
      ]
    },
    {
      "cell_type": "code",
      "source": [
        "# Dataset information and description\n",
        "df.info()\n",
        "df.describe()"
      ],
      "metadata": {
        "id": "dvZh2Up2kqaf",
        "colab": {
          "base_uri": "https://localhost:8080/",
          "height": 675
        },
        "outputId": "dd2c5989-0e82-420d-98d7-8f7da89101a6"
      },
      "execution_count": 3,
      "outputs": [
        {
          "output_type": "stream",
          "name": "stdout",
          "text": [
            "<class 'pandas.core.frame.DataFrame'>\n",
            "RangeIndex: 2590932 entries, 0 to 2590931\n",
            "Data columns (total 14 columns):\n",
            " #   Column          Dtype  \n",
            "---  ------          -----  \n",
            " 0   id              object \n",
            " 1   name            object \n",
            " 2   year            object \n",
            " 3   rating          float64\n",
            " 4   certificate     object \n",
            " 5   duration        object \n",
            " 6   genre           object \n",
            " 7   votes           object \n",
            " 8   gross_income    object \n",
            " 9   directors_id    object \n",
            " 10  directors_name  object \n",
            " 11  stars_id        object \n",
            " 12  stars_name      object \n",
            " 13  description     object \n",
            "dtypes: float64(1), object(13)\n",
            "memory usage: 276.7+ MB\n"
          ]
        },
        {
          "output_type": "execute_result",
          "data": {
            "text/plain": [
              "             rating\n",
              "count  2.590932e+06\n",
              "mean   1.000326e+01\n",
              "std    1.885600e+00\n",
              "min    1.000000e+00\n",
              "25%    1.100000e+01\n",
              "50%    1.100000e+01\n",
              "75%    1.100000e+01\n",
              "max    1.100000e+01"
            ],
            "text/html": [
              "\n",
              "  <div id=\"df-ce0d6dfb-ae24-4dfe-bacc-c39005431ef9\">\n",
              "    <div class=\"colab-df-container\">\n",
              "      <div>\n",
              "<style scoped>\n",
              "    .dataframe tbody tr th:only-of-type {\n",
              "        vertical-align: middle;\n",
              "    }\n",
              "\n",
              "    .dataframe tbody tr th {\n",
              "        vertical-align: top;\n",
              "    }\n",
              "\n",
              "    .dataframe thead th {\n",
              "        text-align: right;\n",
              "    }\n",
              "</style>\n",
              "<table border=\"1\" class=\"dataframe\">\n",
              "  <thead>\n",
              "    <tr style=\"text-align: right;\">\n",
              "      <th></th>\n",
              "      <th>rating</th>\n",
              "    </tr>\n",
              "  </thead>\n",
              "  <tbody>\n",
              "    <tr>\n",
              "      <th>count</th>\n",
              "      <td>2.590932e+06</td>\n",
              "    </tr>\n",
              "    <tr>\n",
              "      <th>mean</th>\n",
              "      <td>1.000326e+01</td>\n",
              "    </tr>\n",
              "    <tr>\n",
              "      <th>std</th>\n",
              "      <td>1.885600e+00</td>\n",
              "    </tr>\n",
              "    <tr>\n",
              "      <th>min</th>\n",
              "      <td>1.000000e+00</td>\n",
              "    </tr>\n",
              "    <tr>\n",
              "      <th>25%</th>\n",
              "      <td>1.100000e+01</td>\n",
              "    </tr>\n",
              "    <tr>\n",
              "      <th>50%</th>\n",
              "      <td>1.100000e+01</td>\n",
              "    </tr>\n",
              "    <tr>\n",
              "      <th>75%</th>\n",
              "      <td>1.100000e+01</td>\n",
              "    </tr>\n",
              "    <tr>\n",
              "      <th>max</th>\n",
              "      <td>1.100000e+01</td>\n",
              "    </tr>\n",
              "  </tbody>\n",
              "</table>\n",
              "</div>\n",
              "      <button class=\"colab-df-convert\" onclick=\"convertToInteractive('df-ce0d6dfb-ae24-4dfe-bacc-c39005431ef9')\"\n",
              "              title=\"Convert this dataframe to an interactive table.\"\n",
              "              style=\"display:none;\">\n",
              "        \n",
              "  <svg xmlns=\"http://www.w3.org/2000/svg\" height=\"24px\"viewBox=\"0 0 24 24\"\n",
              "       width=\"24px\">\n",
              "    <path d=\"M0 0h24v24H0V0z\" fill=\"none\"/>\n",
              "    <path d=\"M18.56 5.44l.94 2.06.94-2.06 2.06-.94-2.06-.94-.94-2.06-.94 2.06-2.06.94zm-11 1L8.5 8.5l.94-2.06 2.06-.94-2.06-.94L8.5 2.5l-.94 2.06-2.06.94zm10 10l.94 2.06.94-2.06 2.06-.94-2.06-.94-.94-2.06-.94 2.06-2.06.94z\"/><path d=\"M17.41 7.96l-1.37-1.37c-.4-.4-.92-.59-1.43-.59-.52 0-1.04.2-1.43.59L10.3 9.45l-7.72 7.72c-.78.78-.78 2.05 0 2.83L4 21.41c.39.39.9.59 1.41.59.51 0 1.02-.2 1.41-.59l7.78-7.78 2.81-2.81c.8-.78.8-2.07 0-2.86zM5.41 20L4 18.59l7.72-7.72 1.47 1.35L5.41 20z\"/>\n",
              "  </svg>\n",
              "      </button>\n",
              "      \n",
              "  <style>\n",
              "    .colab-df-container {\n",
              "      display:flex;\n",
              "      flex-wrap:wrap;\n",
              "      gap: 12px;\n",
              "    }\n",
              "\n",
              "    .colab-df-convert {\n",
              "      background-color: #E8F0FE;\n",
              "      border: none;\n",
              "      border-radius: 50%;\n",
              "      cursor: pointer;\n",
              "      display: none;\n",
              "      fill: #1967D2;\n",
              "      height: 32px;\n",
              "      padding: 0 0 0 0;\n",
              "      width: 32px;\n",
              "    }\n",
              "\n",
              "    .colab-df-convert:hover {\n",
              "      background-color: #E2EBFA;\n",
              "      box-shadow: 0px 1px 2px rgba(60, 64, 67, 0.3), 0px 1px 3px 1px rgba(60, 64, 67, 0.15);\n",
              "      fill: #174EA6;\n",
              "    }\n",
              "\n",
              "    [theme=dark] .colab-df-convert {\n",
              "      background-color: #3B4455;\n",
              "      fill: #D2E3FC;\n",
              "    }\n",
              "\n",
              "    [theme=dark] .colab-df-convert:hover {\n",
              "      background-color: #434B5C;\n",
              "      box-shadow: 0px 1px 3px 1px rgba(0, 0, 0, 0.15);\n",
              "      filter: drop-shadow(0px 1px 2px rgba(0, 0, 0, 0.3));\n",
              "      fill: #FFFFFF;\n",
              "    }\n",
              "  </style>\n",
              "\n",
              "      <script>\n",
              "        const buttonEl =\n",
              "          document.querySelector('#df-ce0d6dfb-ae24-4dfe-bacc-c39005431ef9 button.colab-df-convert');\n",
              "        buttonEl.style.display =\n",
              "          google.colab.kernel.accessAllowed ? 'block' : 'none';\n",
              "\n",
              "        async function convertToInteractive(key) {\n",
              "          const element = document.querySelector('#df-ce0d6dfb-ae24-4dfe-bacc-c39005431ef9');\n",
              "          const dataTable =\n",
              "            await google.colab.kernel.invokeFunction('convertToInteractive',\n",
              "                                                     [key], {});\n",
              "          if (!dataTable) return;\n",
              "\n",
              "          const docLinkHtml = 'Like what you see? Visit the ' +\n",
              "            '<a target=\"_blank\" href=https://colab.research.google.com/notebooks/data_table.ipynb>data table notebook</a>'\n",
              "            + ' to learn more about interactive tables.';\n",
              "          element.innerHTML = '';\n",
              "          dataTable['output_type'] = 'display_data';\n",
              "          await google.colab.output.renderOutput(dataTable, element);\n",
              "          const docLink = document.createElement('div');\n",
              "          docLink.innerHTML = docLinkHtml;\n",
              "          element.appendChild(docLink);\n",
              "        }\n",
              "      </script>\n",
              "    </div>\n",
              "  </div>\n",
              "  "
            ]
          },
          "metadata": {},
          "execution_count": 3
        }
      ]
    },
    {
      "cell_type": "markdown",
      "source": [
        "##**2. Data Cleaning**"
      ],
      "metadata": {
        "id": "4_i4YTJtxxDQ"
      }
    },
    {
      "cell_type": "markdown",
      "source": [
        "###**2.1 Check Data Missing Value Status**"
      ],
      "metadata": {
        "id": "93SOxEZ-xowi"
      }
    },
    {
      "cell_type": "code",
      "source": [
        "#Check on the missing values of our dataset \n",
        "msno.bar(df, sort=\"ascending\", figsize=(20,8), fontsize=12)\n",
        "#Our dataset appear to have no missing value (null values)"
      ],
      "metadata": {
        "id": "42927BIJx2kz",
        "colab": {
          "base_uri": "https://localhost:8080/",
          "height": 620
        },
        "outputId": "11e1cdfd-165b-42a7-c801-2fee0379d429"
      },
      "execution_count": 4,
      "outputs": [
        {
          "output_type": "execute_result",
          "data": {
            "text/plain": [
              "<matplotlib.axes._subplots.AxesSubplot at 0x7fdec52ddcd0>"
            ]
          },
          "metadata": {},
          "execution_count": 4
        },
        {
          "output_type": "display_data",
          "data": {
            "text/plain": [
              "<Figure size 1440x576 with 3 Axes>"
            ],
            "image/png": "[encoded data removed]"
          },
          "metadata": {
            "needs_background": "light"
          }
        }
      ]
    },
    {
      "cell_type": "markdown",
      "source": [
        "It seems that there is no missing value in our dataset, however, a further research (Section 2.3) has been done to find the real situation of missing value in the `gross_income` column."
      ],
      "metadata": {
        "id": "3cpn465F7s0d"
      }
    },
    {
      "cell_type": "markdown",
      "source": [
        "###**2.2 Changing Value Type**\n",
        "Since this dataset's `year` column is made up of both numbers and character strings, the numbers are taken out and put in a new column, named `p_year`. At the same time, certain unreleased films in this dataset set the year column's value to a year higher than **2022**, therefore these entries need to be removed."
      ],
      "metadata": {
        "id": "SZOa-vds3EJP"
      }
    },
    {
      "cell_type": "code",
      "source": [
        "# Extract year as integer from string, store the processed data into p_year\n",
        "df['p_year'] = df['year'].str.extract('(\\d+)', expand=False)\n",
        "\n",
        "# Drop null value in p_year (after extraction, there are rows in p_year without an integer value)\n",
        "df = df.dropna(subset=['p_year'])\n",
        "\n",
        "# Transfer type of p_year into int\n",
        "df['p_year'] = df['p_year'].astype(int)\n",
        "\n",
        "# Removing the movies that have not been published yet (with p_year larger than 2022)\n",
        "df = df.loc[(df['p_year'] <= 2022)]"
      ],
      "metadata": {
        "id": "eByd2oaLpoK7"
      },
      "execution_count": 5,
      "outputs": []
    },
    {
      "cell_type": "markdown",
      "source": [
        "As all columns are objects, some continuous variables are changed to int or float values, and some characters — like the separator in `votes` — are eliminated."
      ],
      "metadata": {
        "id": "UWo5An_lAsNS"
      }
    },
    {
      "cell_type": "code",
      "source": [
        "# Extract numeric value from duration, transform data type of duration from object into integer\n",
        "# Store the processed data into p_duration\n",
        "df['p_duration']= df['duration'].str.extract('(\\d+)', expand = False).astype('int')\n",
        "\n",
        "# Remove ',' in votes, tranform teh data type of votes from object into float \n",
        "# Store the processed data into p_votes\n",
        "df['p_votes'] = df['votes'].str.replace(',', '').astype('float', errors = 'raise')\n",
        "\n",
        "# Remove ',' '$', 'M', in gross_income, transform data type from object into float\n",
        "# Store the processed data into p_gross_income\n",
        "df['gross_income'] = df['gross_income'].str.replace(',', '')\n",
        "df['gross_income'] = df['gross_income'].str.replace('$', '')\n",
        "df['p_gross_income'] = df['gross_income'].str.replace('M', '').astype('float', errors = 'raise')\n"
      ],
      "metadata": {
        "id": "6yMKKvSZO_HK",
        "colab": {
          "base_uri": "https://localhost:8080/"
        },
        "outputId": "46f380c8-ac0b-44da-81f8-4ebc09f09018"
      },
      "execution_count": 6,
      "outputs": [
        {
          "output_type": "stream",
          "name": "stderr",
          "text": [
            "<ipython-input-6-bec7808dee6b>:12: FutureWarning: The default value of regex will change from True to False in a future version. In addition, single character regular expressions will *not* be treated as literal strings when regex=True.\n",
            "  df['gross_income'] = df['gross_income'].str.replace('$', '')\n"
          ]
        }
      ]
    },
    {
      "cell_type": "markdown",
      "source": [
        "###**2.3 `gross_income` Problem**\n",
        "By querying the unique value of `gross income`, the values of `gross income` in most movies are missing. Moreover, the `gross income` column contains a significant amount of duplicated data, which is inappropriate for a numerical variable. `gross income` must be eliminated. The reason behind this issue might have been IMDB handling lost data improperly during data entering. Therefore, the \"total revenue\" column will not be used to avoid too many rows being deleted in our analysis。"
      ],
      "metadata": {
        "id": "pn5_cNRhCXKU"
      }
    },
    {
      "cell_type": "code",
      "source": [
        "# Count unique value in gross income column\n",
        "print('There are ' + str(len(df['p_gross_income'].unique())) + ' unique values in p_gross_income.')\n",
        "print('However, there are ' + str(len(df['p_gross_income'])) + ' values in p_gross_income.')\n",
        "\n",
        "# Move non-zero gross income row into a new datafram\n",
        "df_gross_income = df[df['p_gross_income'] != 0]\n",
        "print('After deleting zero values of gross income, there are only ' + str(len(df_gross_income['p_gross_income'])) + ' values left in p_gross_income.')"
      ],
      "metadata": {
        "id": "eXu-Ab1kid_S",
        "colab": {
          "base_uri": "https://localhost:8080/"
        },
        "outputId": "d17d97d5-6135-4214-c7ce-65c7c8d5e6ac"
      },
      "execution_count": 7,
      "outputs": [
        {
          "output_type": "stream",
          "name": "stdout",
          "text": [
            "There are 10654 unique values in p_gross_income.\n",
            "However, there are 2521504 values in p_gross_income.\n",
            "After deleting zero values of gross income, there are only 861865 values left in p_gross_income.\n"
          ]
        }
      ]
    },
    {
      "cell_type": "markdown",
      "source": [
        "###**2.4 Reorganizing the DataFrame**"
      ],
      "metadata": {
        "id": "s5p_w2Gf7DHw"
      }
    },
    {
      "cell_type": "code",
      "source": [
        "# Reorganize the original dataframe with relevant variables for further analysis\n",
        "df = df[['id', 'name', 'p_year', 'rating', 'certificate', 'p_duration', 'genre', 'p_votes', 'p_gross_income',\n",
        "         'directors_id', 'directors_name', 'stars_id', 'stars_name', 'description']]\n",
        "df.info()\n",
        "df.describe()"
      ],
      "metadata": {
        "id": "U7t_nRXE6kbL",
        "colab": {
          "base_uri": "https://localhost:8080/",
          "height": 675
        },
        "outputId": "65736525-6ca4-4887-a79e-c770fa5a24bc"
      },
      "execution_count": 8,
      "outputs": [
        {
          "output_type": "stream",
          "name": "stdout",
          "text": [
            "<class 'pandas.core.frame.DataFrame'>\n",
            "Int64Index: 2521504 entries, 0 to 2590931\n",
            "Data columns (total 14 columns):\n",
            " #   Column          Dtype  \n",
            "---  ------          -----  \n",
            " 0   id              object \n",
            " 1   name            object \n",
            " 2   p_year          int64  \n",
            " 3   rating          float64\n",
            " 4   certificate     object \n",
            " 5   p_duration      int64  \n",
            " 6   genre           object \n",
            " 7   p_votes         float64\n",
            " 8   p_gross_income  float64\n",
            " 9   directors_id    object \n",
            " 10  directors_name  object \n",
            " 11  stars_id        object \n",
            " 12  stars_name      object \n",
            " 13  description     object \n",
            "dtypes: float64(3), int64(2), object(9)\n",
            "memory usage: 288.6+ MB\n"
          ]
        },
        {
          "output_type": "execute_result",
          "data": {
            "text/plain": [
              "             p_year        rating    p_duration       p_votes  p_gross_income\n",
              "count  2.521504e+06  2.521504e+06  2.521504e+06  2.455970e+06    1.701688e+06\n",
              "mean   2.001403e+03  9.975878e+00  1.599417e+01  4.065205e+02    3.031051e+05\n",
              "std    1.950942e+01  1.903964e+00  3.243553e+01  1.114478e+04    6.489499e+06\n",
              "min    1.877000e+03  1.000000e+00  0.000000e+00  0.000000e+00    0.000000e+00\n",
              "25%    1.994000e+03  1.000000e+01  0.000000e+00  0.000000e+00    0.000000e+00\n",
              "50%    2.008000e+03  1.100000e+01  0.000000e+00  0.000000e+00    0.000000e+00\n",
              "75%    2.015000e+03  1.100000e+01  2.100000e+01  5.000000e+00    0.000000e+00\n",
              "max    2.022000e+03  1.100000e+01  9.990000e+02  2.574832e+06    9.366622e+08"
            ],
            "text/html": [
              "\n",
              "  <div id=\"df-70d91b53-febc-4b1e-b450-de6a6e9feca5\">\n",
              "    <div class=\"colab-df-container\">\n",
              "      <div>\n",
              "<style scoped>\n",
              "    .dataframe tbody tr th:only-of-type {\n",
              "        vertical-align: middle;\n",
              "    }\n",
              "\n",
              "    .dataframe tbody tr th {\n",
              "        vertical-align: top;\n",
              "    }\n",
              "\n",
              "    .dataframe thead th {\n",
              "        text-align: right;\n",
              "    }\n",
              "</style>\n",
              "<table border=\"1\" class=\"dataframe\">\n",
              "  <thead>\n",
              "    <tr style=\"text-align: right;\">\n",
              "      <th></th>\n",
              "      <th>p_year</th>\n",
              "      <th>rating</th>\n",
              "      <th>p_duration</th>\n",
              "      <th>p_votes</th>\n",
              "      <th>p_gross_income</th>\n",
              "    </tr>\n",
              "  </thead>\n",
              "  <tbody>\n",
              "    <tr>\n",
              "      <th>count</th>\n",
              "      <td>2.521504e+06</td>\n",
              "      <td>2.521504e+06</td>\n",
              "      <td>2.521504e+06</td>\n",
              "      <td>2.455970e+06</td>\n",
              "      <td>1.701688e+06</td>\n",
              "    </tr>\n",
              "    <tr>\n",
              "      <th>mean</th>\n",
              "      <td>2.001403e+03</td>\n",
              "      <td>9.975878e+00</td>\n",
              "      <td>1.599417e+01</td>\n",
              "      <td>4.065205e+02</td>\n",
              "      <td>3.031051e+05</td>\n",
              "    </tr>\n",
              "    <tr>\n",
              "      <th>std</th>\n",
              "      <td>1.950942e+01</td>\n",
              "      <td>1.903964e+00</td>\n",
              "      <td>3.243553e+01</td>\n",
              "      <td>1.114478e+04</td>\n",
              "      <td>6.489499e+06</td>\n",
              "    </tr>\n",
              "    <tr>\n",
              "      <th>min</th>\n",
              "      <td>1.877000e+03</td>\n",
              "      <td>1.000000e+00</td>\n",
              "      <td>0.000000e+00</td>\n",
              "      <td>0.000000e+00</td>\n",
              "      <td>0.000000e+00</td>\n",
              "    </tr>\n",
              "    <tr>\n",
              "      <th>25%</th>\n",
              "      <td>1.994000e+03</td>\n",
              "      <td>1.000000e+01</td>\n",
              "      <td>0.000000e+00</td>\n",
              "      <td>0.000000e+00</td>\n",
              "      <td>0.000000e+00</td>\n",
              "    </tr>\n",
              "    <tr>\n",
              "      <th>50%</th>\n",
              "      <td>2.008000e+03</td>\n",
              "      <td>1.100000e+01</td>\n",
              "      <td>0.000000e+00</td>\n",
              "      <td>0.000000e+00</td>\n",
              "      <td>0.000000e+00</td>\n",
              "    </tr>\n",
              "    <tr>\n",
              "      <th>75%</th>\n",
              "      <td>2.015000e+03</td>\n",
              "      <td>1.100000e+01</td>\n",
              "      <td>2.100000e+01</td>\n",
              "      <td>5.000000e+00</td>\n",
              "      <td>0.000000e+00</td>\n",
              "    </tr>\n",
              "    <tr>\n",
              "      <th>max</th>\n",
              "      <td>2.022000e+03</td>\n",
              "      <td>1.100000e+01</td>\n",
              "      <td>9.990000e+02</td>\n",
              "      <td>2.574832e+06</td>\n",
              "      <td>9.366622e+08</td>\n",
              "    </tr>\n",
              "  </tbody>\n",
              "</table>\n",
              "</div>\n",
              "      <button class=\"colab-df-convert\" onclick=\"convertToInteractive('df-70d91b53-febc-4b1e-b450-de6a6e9feca5')\"\n",
              "              title=\"Convert this dataframe to an interactive table.\"\n",
              "              style=\"display:none;\">\n",
              "        \n",
              "  <svg xmlns=\"http://www.w3.org/2000/svg\" height=\"24px\"viewBox=\"0 0 24 24\"\n",
              "       width=\"24px\">\n",
              "    <path d=\"M0 0h24v24H0V0z\" fill=\"none\"/>\n",
              "    <path d=\"M18.56 5.44l.94 2.06.94-2.06 2.06-.94-2.06-.94-.94-2.06-.94 2.06-2.06.94zm-11 1L8.5 8.5l.94-2.06 2.06-.94-2.06-.94L8.5 2.5l-.94 2.06-2.06.94zm10 10l.94 2.06.94-2.06 2.06-.94-2.06-.94-.94-2.06-.94 2.06-2.06.94z\"/><path d=\"M17.41 7.96l-1.37-1.37c-.4-.4-.92-.59-1.43-.59-.52 0-1.04.2-1.43.59L10.3 9.45l-7.72 7.72c-.78.78-.78 2.05 0 2.83L4 21.41c.39.39.9.59 1.41.59.51 0 1.02-.2 1.41-.59l7.78-7.78 2.81-2.81c.8-.78.8-2.07 0-2.86zM5.41 20L4 18.59l7.72-7.72 1.47 1.35L5.41 20z\"/>\n",
              "  </svg>\n",
              "      </button>\n",
              "      \n",
              "  <style>\n",
              "    .colab-df-container {\n",
              "      display:flex;\n",
              "      flex-wrap:wrap;\n",
              "      gap: 12px;\n",
              "    }\n",
              "\n",
              "    .colab-df-convert {\n",
              "      background-color: #E8F0FE;\n",
              "      border: none;\n",
              "      border-radius: 50%;\n",
              "      cursor: pointer;\n",
              "      display: none;\n",
              "      fill: #1967D2;\n",
              "      height: 32px;\n",
              "      padding: 0 0 0 0;\n",
              "      width: 32px;\n",
              "    }\n",
              "\n",
              "    .colab-df-convert:hover {\n",
              "      background-color: #E2EBFA;\n",
              "      box-shadow: 0px 1px 2px rgba(60, 64, 67, 0.3), 0px 1px 3px 1px rgba(60, 64, 67, 0.15);\n",
              "      fill: #174EA6;\n",
              "    }\n",
              "\n",
              "    [theme=dark] .colab-df-convert {\n",
              "      background-color: #3B4455;\n",
              "      fill: #D2E3FC;\n",
              "    }\n",
              "\n",
              "    [theme=dark] .colab-df-convert:hover {\n",
              "      background-color: #434B5C;\n",
              "      box-shadow: 0px 1px 3px 1px rgba(0, 0, 0, 0.15);\n",
              "      filter: drop-shadow(0px 1px 2px rgba(0, 0, 0, 0.3));\n",
              "      fill: #FFFFFF;\n",
              "    }\n",
              "  </style>\n",
              "\n",
              "      <script>\n",
              "        const buttonEl =\n",
              "          document.querySelector('#df-70d91b53-febc-4b1e-b450-de6a6e9feca5 button.colab-df-convert');\n",
              "        buttonEl.style.display =\n",
              "          google.colab.kernel.accessAllowed ? 'block' : 'none';\n",
              "\n",
              "        async function convertToInteractive(key) {\n",
              "          const element = document.querySelector('#df-70d91b53-febc-4b1e-b450-de6a6e9feca5');\n",
              "          const dataTable =\n",
              "            await google.colab.kernel.invokeFunction('convertToInteractive',\n",
              "                                                     [key], {});\n",
              "          if (!dataTable) return;\n",
              "\n",
              "          const docLinkHtml = 'Like what you see? Visit the ' +\n",
              "            '<a target=\"_blank\" href=https://colab.research.google.com/notebooks/data_table.ipynb>data table notebook</a>'\n",
              "            + ' to learn more about interactive tables.';\n",
              "          element.innerHTML = '';\n",
              "          dataTable['output_type'] = 'display_data';\n",
              "          await google.colab.output.renderOutput(dataTable, element);\n",
              "          const docLink = document.createElement('div');\n",
              "          docLink.innerHTML = docLinkHtml;\n",
              "          element.appendChild(docLink);\n",
              "        }\n",
              "      </script>\n",
              "    </div>\n",
              "  </div>\n",
              "  "
            ]
          },
          "metadata": {},
          "execution_count": 8
        }
      ]
    },
    {
      "cell_type": "code",
      "source": [
        "df.head()"
      ],
      "metadata": {
        "id": "t3GShrvxzaIo",
        "colab": {
          "base_uri": "https://localhost:8080/",
          "height": 583
        },
        "outputId": "e76046f5-7ee9-48ca-e123-a9ef7d7b8e2b"
      },
      "execution_count": 9,
      "outputs": [
        {
          "output_type": "execute_result",
          "data": {
            "text/plain": [
              "          id                          name  p_year  rating    certificate  \\\n",
              "0  tt4710316  Best in Sex: 2015 AVN Awards    2015     4.0          TV-MA   \n",
              "1  tt1281857              Naughty Novelist    2008     3.8  Not Certified   \n",
              "2  tt2294954          2011 AVN Awards Show    2011     5.7  Not Certified   \n",
              "3  tt6843596  Best in Sex: 2017 AVN Awards    2017     4.9          TV-MA   \n",
              "4  tt3705604               AVN Awards 2014    2014     6.7              R   \n",
              "\n",
              "   p_duration        genre  p_votes  p_gross_income         directors_id  \\\n",
              "0          94  Adult, News    124.0             0.0            nm1624094   \n",
              "1          88        Adult    174.0             0.0            nm0045256   \n",
              "2          83  Adult, News     39.0             0.0  nm1624094,nm0754845   \n",
              "3          87  Adult, News    225.0             0.0            nm1624094   \n",
              "4          82  Adult, News    101.0             0.0            nm1624094   \n",
              "\n",
              "                directors_name                                 stars_id  \\\n",
              "0                  Gary Miller  nm4766272,nm2670531,nm4920605,nm6284246   \n",
              "1                 John Bacchus  nm0128986,nm1969196,nm0451160,nm6130462   \n",
              "2  Gary Miller,Timothy E. Sabo  nm2200343,nm2670531,nm1267549,nm3585599   \n",
              "3                  Gary Miller  nm5221471,nm2670531,nm4920605,nm3038816   \n",
              "4                  Gary Miller  nm2670531,nm4920605,nm6284246,nm3992720   \n",
              "\n",
              "                                          stars_name  \\\n",
              "0  Farrah Laurel Abraham,Asa Akira,Anikka Albrite...   \n",
              "1       Darian Caine,Jackie Stevens,A.J. Khan,Arrora   \n",
              "2  Aubrey Addams,Asa Akira,Monique Alexander,Rave...   \n",
              "3  Amirah Adara,Asa Akira,Anikka Albrite,Britney ...   \n",
              "4  Asa Akira,Anikka Albrite,August Ames,Jessie An...   \n",
              "\n",
              "                                         description  \n",
              "0  The hottest adult stars and top adult movies a...  \n",
              "1  Darian is a successful journalist but when she...  \n",
              "2                                         Add a Plot  \n",
              "3  Considered the industry's highest honor, the A...  \n",
              "4  Erotic filmmaking superstars Chanel Preston an...  "
            ],
            "text/html": [
              "\n",
              "  <div id=\"df-e31363ef-57ba-4a9f-9228-5c6324477b32\">\n",
              "    <div class=\"colab-df-container\">\n",
              "      <div>\n",
              "<style scoped>\n",
              "    .dataframe tbody tr th:only-of-type {\n",
              "        vertical-align: middle;\n",
              "    }\n",
              "\n",
              "    .dataframe tbody tr th {\n",
              "        vertical-align: top;\n",
              "    }\n",
              "\n",
              "    .dataframe thead th {\n",
              "        text-align: right;\n",
              "    }\n",
              "</style>\n",
              "<table border=\"1\" class=\"dataframe\">\n",
              "  <thead>\n",
              "    <tr style=\"text-align: right;\">\n",
              "      <th></th>\n",
              "      <th>id</th>\n",
              "      <th>name</th>\n",
              "      <th>p_year</th>\n",
              "      <th>rating</th>\n",
              "      <th>certificate</th>\n",
              "      <th>p_duration</th>\n",
              "      <th>genre</th>\n",
              "      <th>p_votes</th>\n",
              "      <th>p_gross_income</th>\n",
              "      <th>directors_id</th>\n",
              "      <th>directors_name</th>\n",
              "      <th>stars_id</th>\n",
              "      <th>stars_name</th>\n",
              "      <th>description</th>\n",
              "    </tr>\n",
              "  </thead>\n",
              "  <tbody>\n",
              "    <tr>\n",
              "      <th>0</th>\n",
              "      <td>tt4710316</td>\n",
              "      <td>Best in Sex: 2015 AVN Awards</td>\n",
              "      <td>2015</td>\n",
              "      <td>4.0</td>\n",
              "      <td>TV-MA</td>\n",
              "      <td>94</td>\n",
              "      <td>Adult, News</td>\n",
              "      <td>124.0</td>\n",
              "      <td>0.0</td>\n",
              "      <td>nm1624094</td>\n",
              "      <td>Gary Miller</td>\n",
              "      <td>nm4766272,nm2670531,nm4920605,nm6284246</td>\n",
              "      <td>Farrah Laurel Abraham,Asa Akira,Anikka Albrite...</td>\n",
              "      <td>The hottest adult stars and top adult movies a...</td>\n",
              "    </tr>\n",
              "    <tr>\n",
              "      <th>1</th>\n",
              "      <td>tt1281857</td>\n",
              "      <td>Naughty Novelist</td>\n",
              "      <td>2008</td>\n",
              "      <td>3.8</td>\n",
              "      <td>Not Certified</td>\n",
              "      <td>88</td>\n",
              "      <td>Adult</td>\n",
              "      <td>174.0</td>\n",
              "      <td>0.0</td>\n",
              "      <td>nm0045256</td>\n",
              "      <td>John Bacchus</td>\n",
              "      <td>nm0128986,nm1969196,nm0451160,nm6130462</td>\n",
              "      <td>Darian Caine,Jackie Stevens,A.J. Khan,Arrora</td>\n",
              "      <td>Darian is a successful journalist but when she...</td>\n",
              "    </tr>\n",
              "    <tr>\n",
              "      <th>2</th>\n",
              "      <td>tt2294954</td>\n",
              "      <td>2011 AVN Awards Show</td>\n",
              "      <td>2011</td>\n",
              "      <td>5.7</td>\n",
              "      <td>Not Certified</td>\n",
              "      <td>83</td>\n",
              "      <td>Adult, News</td>\n",
              "      <td>39.0</td>\n",
              "      <td>0.0</td>\n",
              "      <td>nm1624094,nm0754845</td>\n",
              "      <td>Gary Miller,Timothy E. Sabo</td>\n",
              "      <td>nm2200343,nm2670531,nm1267549,nm3585599</td>\n",
              "      <td>Aubrey Addams,Asa Akira,Monique Alexander,Rave...</td>\n",
              "      <td>Add a Plot</td>\n",
              "    </tr>\n",
              "    <tr>\n",
              "      <th>3</th>\n",
              "      <td>tt6843596</td>\n",
              "      <td>Best in Sex: 2017 AVN Awards</td>\n",
              "      <td>2017</td>\n",
              "      <td>4.9</td>\n",
              "      <td>TV-MA</td>\n",
              "      <td>87</td>\n",
              "      <td>Adult, News</td>\n",
              "      <td>225.0</td>\n",
              "      <td>0.0</td>\n",
              "      <td>nm1624094</td>\n",
              "      <td>Gary Miller</td>\n",
              "      <td>nm5221471,nm2670531,nm4920605,nm3038816</td>\n",
              "      <td>Amirah Adara,Asa Akira,Anikka Albrite,Britney ...</td>\n",
              "      <td>Considered the industry's highest honor, the A...</td>\n",
              "    </tr>\n",
              "    <tr>\n",
              "      <th>4</th>\n",
              "      <td>tt3705604</td>\n",
              "      <td>AVN Awards 2014</td>\n",
              "      <td>2014</td>\n",
              "      <td>6.7</td>\n",
              "      <td>R</td>\n",
              "      <td>82</td>\n",
              "      <td>Adult, News</td>\n",
              "      <td>101.0</td>\n",
              "      <td>0.0</td>\n",
              "      <td>nm1624094</td>\n",
              "      <td>Gary Miller</td>\n",
              "      <td>nm2670531,nm4920605,nm6284246,nm3992720</td>\n",
              "      <td>Asa Akira,Anikka Albrite,August Ames,Jessie An...</td>\n",
              "      <td>Erotic filmmaking superstars Chanel Preston an...</td>\n",
              "    </tr>\n",
              "  </tbody>\n",
              "</table>\n",
              "</div>\n",
              "      <button class=\"colab-df-convert\" onclick=\"convertToInteractive('df-e31363ef-57ba-4a9f-9228-5c6324477b32')\"\n",
              "              title=\"Convert this dataframe to an interactive table.\"\n",
              "              style=\"display:none;\">\n",
              "        \n",
              "  <svg xmlns=\"http://www.w3.org/2000/svg\" height=\"24px\"viewBox=\"0 0 24 24\"\n",
              "       width=\"24px\">\n",
              "    <path d=\"M0 0h24v24H0V0z\" fill=\"none\"/>\n",
              "    <path d=\"M18.56 5.44l.94 2.06.94-2.06 2.06-.94-2.06-.94-.94-2.06-.94 2.06-2.06.94zm-11 1L8.5 8.5l.94-2.06 2.06-.94-2.06-.94L8.5 2.5l-.94 2.06-2.06.94zm10 10l.94 2.06.94-2.06 2.06-.94-2.06-.94-.94-2.06-.94 2.06-2.06.94z\"/><path d=\"M17.41 7.96l-1.37-1.37c-.4-.4-.92-.59-1.43-.59-.52 0-1.04.2-1.43.59L10.3 9.45l-7.72 7.72c-.78.78-.78 2.05 0 2.83L4 21.41c.39.39.9.59 1.41.59.51 0 1.02-.2 1.41-.59l7.78-7.78 2.81-2.81c.8-.78.8-2.07 0-2.86zM5.41 20L4 18.59l7.72-7.72 1.47 1.35L5.41 20z\"/>\n",
              "  </svg>\n",
              "      </button>\n",
              "      \n",
              "  <style>\n",
              "    .colab-df-container {\n",
              "      display:flex;\n",
              "      flex-wrap:wrap;\n",
              "      gap: 12px;\n",
              "    }\n",
              "\n",
              "    .colab-df-convert {\n",
              "      background-color: #E8F0FE;\n",
              "      border: none;\n",
              "      border-radius: 50%;\n",
              "      cursor: pointer;\n",
              "      display: none;\n",
              "      fill: #1967D2;\n",
              "      height: 32px;\n",
              "      padding: 0 0 0 0;\n",
              "      width: 32px;\n",
              "    }\n",
              "\n",
              "    .colab-df-convert:hover {\n",
              "      background-color: #E2EBFA;\n",
              "      box-shadow: 0px 1px 2px rgba(60, 64, 67, 0.3), 0px 1px 3px 1px rgba(60, 64, 67, 0.15);\n",
              "      fill: #174EA6;\n",
              "    }\n",
              "\n",
              "    [theme=dark] .colab-df-convert {\n",
              "      background-color: #3B4455;\n",
              "      fill: #D2E3FC;\n",
              "    }\n",
              "\n",
              "    [theme=dark] .colab-df-convert:hover {\n",
              "      background-color: #434B5C;\n",
              "      box-shadow: 0px 1px 3px 1px rgba(0, 0, 0, 0.15);\n",
              "      filter: drop-shadow(0px 1px 2px rgba(0, 0, 0, 0.3));\n",
              "      fill: #FFFFFF;\n",
              "    }\n",
              "  </style>\n",
              "\n",
              "      <script>\n",
              "        const buttonEl =\n",
              "          document.querySelector('#df-e31363ef-57ba-4a9f-9228-5c6324477b32 button.colab-df-convert');\n",
              "        buttonEl.style.display =\n",
              "          google.colab.kernel.accessAllowed ? 'block' : 'none';\n",
              "\n",
              "        async function convertToInteractive(key) {\n",
              "          const element = document.querySelector('#df-e31363ef-57ba-4a9f-9228-5c6324477b32');\n",
              "          const dataTable =\n",
              "            await google.colab.kernel.invokeFunction('convertToInteractive',\n",
              "                                                     [key], {});\n",
              "          if (!dataTable) return;\n",
              "\n",
              "          const docLinkHtml = 'Like what you see? Visit the ' +\n",
              "            '<a target=\"_blank\" href=https://colab.research.google.com/notebooks/data_table.ipynb>data table notebook</a>'\n",
              "            + ' to learn more about interactive tables.';\n",
              "          element.innerHTML = '';\n",
              "          dataTable['output_type'] = 'display_data';\n",
              "          await google.colab.output.renderOutput(dataTable, element);\n",
              "          const docLink = document.createElement('div');\n",
              "          docLink.innerHTML = docLinkHtml;\n",
              "          element.appendChild(docLink);\n",
              "        }\n",
              "      </script>\n",
              "    </div>\n",
              "  </div>\n",
              "  "
            ]
          },
          "metadata": {},
          "execution_count": 9
        }
      ]
    },
    {
      "cell_type": "markdown",
      "source": [
        "###**2.5 Data Description**"
      ],
      "metadata": {
        "id": "cW6_seiOy0Mc"
      }
    },
    {
      "cell_type": "markdown",
      "source": [
        "| **Feature Name** | **Feature Description** | **Data Type** |\n",
        "|------------------|-------------------------|---------------|\n",
        "| id               | Movie ID                                       | object        |\n",
        "| name             | Name of the Movie                              | object        |\n",
        "| p_year           | Year of movie release                          | int64         |\n",
        "| rating           | Rating of the Movie                            | float64       |\n",
        "| certificate      | Movie Certification                            | object        |\n",
        "| p_duration       | Duration of the Movie                          | int64         |\n",
        "| genre            | Genre of the Movie                             | object        |\n",
        "| p_votes          | Number of people who voted for the IMDB rating | float64       |\n",
        "| directors_id     | ID of Directors who have worked on the movie   | object        |\n",
        "| directors_name   | Name of Directors who have worked on the movie | object        |\n",
        "| stars_id         | ID of stars who have worked on the movie       | object        |\n",
        "| stars_name       | Name of stars who have worked on the movie     | object        |\n",
        "| description      | Description of the movie                       | object        |"
      ],
      "metadata": {
        "id": "sLnc0rCCy7WY"
      }
    },
    {
      "cell_type": "markdown",
      "source": [
        "**Data Cleaning is Completed**"
      ],
      "metadata": {
        "id": "FAoFjZ7I6ts8"
      }
    },
    {
      "cell_type": "markdown",
      "source": [
        "##**3. Detailed Analysis**"
      ],
      "metadata": {
        "id": "VKPLQ5ZMax4K"
      }
    },
    {
      "cell_type": "markdown",
      "source": [
        "### **Heatmap**"
      ],
      "metadata": {
        "id": "KJUlNwhp7bUG"
      }
    },
    {
      "cell_type": "code",
      "source": [
        "plt.figure(figsize=(20,10))\n",
        "sns.heatmap(df.corr(),fmt=\".2f\",annot=True)"
      ],
      "metadata": {
        "id": "cnpA05lP7eLi",
        "colab": {
          "base_uri": "https://localhost:8080/",
          "height": 614
        },
        "outputId": "ef292e92-c02b-4d50-ea15-3facec94a440"
      },
      "execution_count": 10,
      "outputs": [
        {
          "output_type": "execute_result",
          "data": {
            "text/plain": [
              "<matplotlib.axes._subplots.AxesSubplot at 0x7fdec538bd30>"
            ]
          },
          "metadata": {},
          "execution_count": 10
        },
        {
          "output_type": "display_data",
          "data": {
            "text/plain": [
              "<Figure size 1440x720 with 2 Axes>"
            ],
            "image/png": "[encoded data removed]"
          },
          "metadata": {
            "needs_background": "light"
          }
        }
      ]
    },
    {
      "cell_type": "markdown",
      "source": [
        "\n",
        "\n",
        "> Through the heatmap, it can be found that there is a relatively strong negative relationship between `p_duration` and `rating`. As for the relationship between `p_vote` and `p_gross_income`, since the use of `p_gross_income` is abandoned, the relationship between them will no longer be discussed.\n",
        "\n",
        "\n"
      ],
      "metadata": {
        "id": "c9h-sj0G-p_o"
      }
    },
    {
      "cell_type": "markdown",
      "source": [
        "### **Roughly Count of Genre**"
      ],
      "metadata": {
        "id": "JxXSp0W3An4U"
      }
    },
    {
      "cell_type": "code",
      "source": [
        "plt.figure(figsize=(15,7))\n",
        "sns.countplot(x = df.genre, order = df.genre.value_counts().iloc[:5].index)\n",
        "\n",
        "plt.show()"
      ],
      "metadata": {
        "id": "8bKegQXTAolJ",
        "colab": {
          "base_uri": "https://localhost:8080/",
          "height": 442
        },
        "outputId": "1223e018-090b-434d-9633-5e1d75fed6a1"
      },
      "execution_count": 11,
      "outputs": [
        {
          "output_type": "display_data",
          "data": {
            "text/plain": [
              "<Figure size 1080x504 with 1 Axes>"
            ],
            "image/png": "[encoded data removed]"
          },
          "metadata": {
            "needs_background": "light"
          }
        }
      ]
    },
    {
      "cell_type": "markdown",
      "source": [
        "\n",
        "\n",
        "> A roughly research has been done to find out top 5 genre with the most quantity. According to the chart above, it can be found that the genre with the largest number is game-show, followed by Sport, Music and Reality-TV.\n"
      ],
      "metadata": {
        "id": "SOYHdyoiCjUH"
      }
    },
    {
      "cell_type": "markdown",
      "source": [
        "### **Analysis of Movies' Quantity**"
      ],
      "metadata": {
        "id": "c0RACRbHAcbT"
      }
    },
    {
      "cell_type": "code",
      "source": [
        "# Count the quantity of movies/TV group by year\n",
        "pre = df.groupby(by ='p_year').agg({\"id\":\"count\"}).rename(columns={'id': 'Count'})"
      ],
      "metadata": {
        "id": "YbUEhv1r2iSE"
      },
      "execution_count": 12,
      "outputs": []
    },
    {
      "cell_type": "code",
      "source": [
        "# Make barplot for the quantity of movies/TV group by year\n",
        "plt.figure(figsize = (15, 8))\n",
        "plt.title('the Quantity of Movies/TV per Year')\n",
        "ax = sns.barplot(x = pre.index,y ='Count',data=pre, palette = 'Blues')\n",
        "ax.set_xticks([])\n",
        "plt.xticks(rotation = 90)\n",
        "plt.xlabel('Year')\n",
        "plt.ylabel('# of Movies')\n",
        "plt.show()"
      ],
      "metadata": {
        "id": "tlML72Jn2zJh",
        "colab": {
          "base_uri": "https://localhost:8080/",
          "height": 496
        },
        "outputId": "94e1f730-8d6f-41c8-804f-6980b9dd4630"
      },
      "execution_count": 13,
      "outputs": [
        {
          "output_type": "display_data",
          "data": {
            "text/plain": [
              "<Figure size 1080x576 with 1 Axes>"
            ],
            "image/png": "[encoded data removed]"
          },
          "metadata": {
            "needs_background": "light"
          }
        }
      ]
    },
    {
      "cell_type": "markdown",
      "source": [
        "\n",
        "\n",
        "> From the graph above, it can be found that most of the film and television products were born in recent decades. This analysis wants to compare the changing trends of film and television products, so ***the median of the year will be used as a dividing line to compare the differences in film and television products***.\n",
        "\n"
      ],
      "metadata": {
        "id": "cjZsEZA15jVS"
      }
    },
    {
      "cell_type": "markdown",
      "source": [
        "###**3.1 Question 1**\n",
        "**Based on the ratings, find the median of all the years in which the movies are presented. What has happened in audience taste for genres during first half of the years compared with the second half of the years?**"
      ],
      "metadata": {
        "id": "oRmfRrbgc471"
      }
    },
    {
      "cell_type": "code",
      "source": [
        "#Check the median of years of all movies\n",
        "print('Median of Years:', round(df['p_year'].median()))"
      ],
      "metadata": {
        "id": "y-Zf43c67qRQ",
        "colab": {
          "base_uri": "https://localhost:8080/"
        },
        "outputId": "cf3940a2-7cc2-4f83-8e6d-97e8961ef86d"
      },
      "execution_count": 14,
      "outputs": [
        {
          "output_type": "stream",
          "name": "stdout",
          "text": [
            "Median of Years: 2008\n"
          ]
        }
      ]
    },
    {
      "cell_type": "markdown",
      "source": [
        "IMDB marks unrated or unvoted movies as 10 or 11, and this has appeared in a large part of the entire dataset. Therefore, this part of the dataset needs to be removed separately in a new *dataframe* to avoid affecting the integrity of the entire dataset. Unvoted and 0-duration films are also removed."
      ],
      "metadata": {
        "id": "pkCe6bPKh0TC"
      }
    },
    {
      "cell_type": "code",
      "source": [
        "# Check the description of rating column\n",
        "df['rating'].describe()\n",
        "\n",
        "# Remove unrated movies, which has rating of 10 or 10+\n",
        "df_q = df[df['rating'] < 10]\n",
        "\n",
        "# Remove unvoted movies and movies with duration equals to 0 minutes\n",
        "df_q = df_q[(df_q['p_votes'] != 0) & (df_q['p_duration'] != 0)]\n"
      ],
      "metadata": {
        "id": "Iu2W_wSLpFRl"
      },
      "execution_count": 15,
      "outputs": []
    },
    {
      "cell_type": "markdown",
      "source": [
        "Since some movies have multiple genres, the genre list is then splited into multiple rows, so the movie `id` is having a one-to-many relationship with `genre` (one movie can have different genres, therefore appears in multiple rows.) "
      ],
      "metadata": {
        "id": "2PrlfbP0soMF"
      }
    },
    {
      "cell_type": "code",
      "source": [
        "# Expand genre list into several rows\n",
        "df_q1 = df_q\n",
        "df_q1['genre'] = df_q1['genre'].map(lambda x: x.split(','))\n",
        "df_q1 = df_q1.explode('genre')\n",
        "df_q1.head()"
      ],
      "metadata": {
        "id": "3zVv0QyjsrDh",
        "colab": {
          "base_uri": "https://localhost:8080/",
          "height": 565
        },
        "outputId": "72bfd3d8-1d99-40ea-f8f8-46a84e361a36"
      },
      "execution_count": 16,
      "outputs": [
        {
          "output_type": "execute_result",
          "data": {
            "text/plain": [
              "          id                          name  p_year  rating    certificate  \\\n",
              "0  tt4710316  Best in Sex: 2015 AVN Awards    2015     4.0          TV-MA   \n",
              "0  tt4710316  Best in Sex: 2015 AVN Awards    2015     4.0          TV-MA   \n",
              "1  tt1281857              Naughty Novelist    2008     3.8  Not Certified   \n",
              "2  tt2294954          2011 AVN Awards Show    2011     5.7  Not Certified   \n",
              "2  tt2294954          2011 AVN Awards Show    2011     5.7  Not Certified   \n",
              "\n",
              "   p_duration  genre  p_votes  p_gross_income         directors_id  \\\n",
              "0          94  Adult    124.0             0.0            nm1624094   \n",
              "0          94   News    124.0             0.0            nm1624094   \n",
              "1          88  Adult    174.0             0.0            nm0045256   \n",
              "2          83  Adult     39.0             0.0  nm1624094,nm0754845   \n",
              "2          83   News     39.0             0.0  nm1624094,nm0754845   \n",
              "\n",
              "                directors_name                                 stars_id  \\\n",
              "0                  Gary Miller  nm4766272,nm2670531,nm4920605,nm6284246   \n",
              "0                  Gary Miller  nm4766272,nm2670531,nm4920605,nm6284246   \n",
              "1                 John Bacchus  nm0128986,nm1969196,nm0451160,nm6130462   \n",
              "2  Gary Miller,Timothy E. Sabo  nm2200343,nm2670531,nm1267549,nm3585599   \n",
              "2  Gary Miller,Timothy E. Sabo  nm2200343,nm2670531,nm1267549,nm3585599   \n",
              "\n",
              "                                          stars_name  \\\n",
              "0  Farrah Laurel Abraham,Asa Akira,Anikka Albrite...   \n",
              "0  Farrah Laurel Abraham,Asa Akira,Anikka Albrite...   \n",
              "1       Darian Caine,Jackie Stevens,A.J. Khan,Arrora   \n",
              "2  Aubrey Addams,Asa Akira,Monique Alexander,Rave...   \n",
              "2  Aubrey Addams,Asa Akira,Monique Alexander,Rave...   \n",
              "\n",
              "                                         description  \n",
              "0  The hottest adult stars and top adult movies a...  \n",
              "0  The hottest adult stars and top adult movies a...  \n",
              "1  Darian is a successful journalist but when she...  \n",
              "2                                         Add a Plot  \n",
              "2                                         Add a Plot  "
            ],
            "text/html": [
              "\n",
              "  <div id=\"df-fd4dfa50-9c54-41ee-ab98-25350fe47c5a\">\n",
              "    <div class=\"colab-df-container\">\n",
              "      <div>\n",
              "<style scoped>\n",
              "    .dataframe tbody tr th:only-of-type {\n",
              "        vertical-align: middle;\n",
              "    }\n",
              "\n",
              "    .dataframe tbody tr th {\n",
              "        vertical-align: top;\n",
              "    }\n",
              "\n",
              "    .dataframe thead th {\n",
              "        text-align: right;\n",
              "    }\n",
              "</style>\n",
              "<table border=\"1\" class=\"dataframe\">\n",
              "  <thead>\n",
              "    <tr style=\"text-align: right;\">\n",
              "      <th></th>\n",
              "      <th>id</th>\n",
              "      <th>name</th>\n",
              "      <th>p_year</th>\n",
              "      <th>rating</th>\n",
              "      <th>certificate</th>\n",
              "      <th>p_duration</th>\n",
              "      <th>genre</th>\n",
              "      <th>p_votes</th>\n",
              "      <th>p_gross_income</th>\n",
              "      <th>directors_id</th>\n",
              "      <th>directors_name</th>\n",
              "      <th>stars_id</th>\n",
              "      <th>stars_name</th>\n",
              "      <th>description</th>\n",
              "    </tr>\n",
              "  </thead>\n",
              "  <tbody>\n",
              "    <tr>\n",
              "      <th>0</th>\n",
              "      <td>tt4710316</td>\n",
              "      <td>Best in Sex: 2015 AVN Awards</td>\n",
              "      <td>2015</td>\n",
              "      <td>4.0</td>\n",
              "      <td>TV-MA</td>\n",
              "      <td>94</td>\n",
              "      <td>Adult</td>\n",
              "      <td>124.0</td>\n",
              "      <td>0.0</td>\n",
              "      <td>nm1624094</td>\n",
              "      <td>Gary Miller</td>\n",
              "      <td>nm4766272,nm2670531,nm4920605,nm6284246</td>\n",
              "      <td>Farrah Laurel Abraham,Asa Akira,Anikka Albrite...</td>\n",
              "      <td>The hottest adult stars and top adult movies a...</td>\n",
              "    </tr>\n",
              "    <tr>\n",
              "      <th>0</th>\n",
              "      <td>tt4710316</td>\n",
              "      <td>Best in Sex: 2015 AVN Awards</td>\n",
              "      <td>2015</td>\n",
              "      <td>4.0</td>\n",
              "      <td>TV-MA</td>\n",
              "      <td>94</td>\n",
              "      <td>News</td>\n",
              "      <td>124.0</td>\n",
              "      <td>0.0</td>\n",
              "      <td>nm1624094</td>\n",
              "      <td>Gary Miller</td>\n",
              "      <td>nm4766272,nm2670531,nm4920605,nm6284246</td>\n",
              "      <td>Farrah Laurel Abraham,Asa Akira,Anikka Albrite...</td>\n",
              "      <td>The hottest adult stars and top adult movies a...</td>\n",
              "    </tr>\n",
              "    <tr>\n",
              "      <th>1</th>\n",
              "      <td>tt1281857</td>\n",
              "      <td>Naughty Novelist</td>\n",
              "      <td>2008</td>\n",
              "      <td>3.8</td>\n",
              "      <td>Not Certified</td>\n",
              "      <td>88</td>\n",
              "      <td>Adult</td>\n",
              "      <td>174.0</td>\n",
              "      <td>0.0</td>\n",
              "      <td>nm0045256</td>\n",
              "      <td>John Bacchus</td>\n",
              "      <td>nm0128986,nm1969196,nm0451160,nm6130462</td>\n",
              "      <td>Darian Caine,Jackie Stevens,A.J. Khan,Arrora</td>\n",
              "      <td>Darian is a successful journalist but when she...</td>\n",
              "    </tr>\n",
              "    <tr>\n",
              "      <th>2</th>\n",
              "      <td>tt2294954</td>\n",
              "      <td>2011 AVN Awards Show</td>\n",
              "      <td>2011</td>\n",
              "      <td>5.7</td>\n",
              "      <td>Not Certified</td>\n",
              "      <td>83</td>\n",
              "      <td>Adult</td>\n",
              "      <td>39.0</td>\n",
              "      <td>0.0</td>\n",
              "      <td>nm1624094,nm0754845</td>\n",
              "      <td>Gary Miller,Timothy E. Sabo</td>\n",
              "      <td>nm2200343,nm2670531,nm1267549,nm3585599</td>\n",
              "      <td>Aubrey Addams,Asa Akira,Monique Alexander,Rave...</td>\n",
              "      <td>Add a Plot</td>\n",
              "    </tr>\n",
              "    <tr>\n",
              "      <th>2</th>\n",
              "      <td>tt2294954</td>\n",
              "      <td>2011 AVN Awards Show</td>\n",
              "      <td>2011</td>\n",
              "      <td>5.7</td>\n",
              "      <td>Not Certified</td>\n",
              "      <td>83</td>\n",
              "      <td>News</td>\n",
              "      <td>39.0</td>\n",
              "      <td>0.0</td>\n",
              "      <td>nm1624094,nm0754845</td>\n",
              "      <td>Gary Miller,Timothy E. Sabo</td>\n",
              "      <td>nm2200343,nm2670531,nm1267549,nm3585599</td>\n",
              "      <td>Aubrey Addams,Asa Akira,Monique Alexander,Rave...</td>\n",
              "      <td>Add a Plot</td>\n",
              "    </tr>\n",
              "  </tbody>\n",
              "</table>\n",
              "</div>\n",
              "      <button class=\"colab-df-convert\" onclick=\"convertToInteractive('df-fd4dfa50-9c54-41ee-ab98-25350fe47c5a')\"\n",
              "              title=\"Convert this dataframe to an interactive table.\"\n",
              "              style=\"display:none;\">\n",
              "        \n",
              "  <svg xmlns=\"http://www.w3.org/2000/svg\" height=\"24px\"viewBox=\"0 0 24 24\"\n",
              "       width=\"24px\">\n",
              "    <path d=\"M0 0h24v24H0V0z\" fill=\"none\"/>\n",
              "    <path d=\"M18.56 5.44l.94 2.06.94-2.06 2.06-.94-2.06-.94-.94-2.06-.94 2.06-2.06.94zm-11 1L8.5 8.5l.94-2.06 2.06-.94-2.06-.94L8.5 2.5l-.94 2.06-2.06.94zm10 10l.94 2.06.94-2.06 2.06-.94-2.06-.94-.94-2.06-.94 2.06-2.06.94z\"/><path d=\"M17.41 7.96l-1.37-1.37c-.4-.4-.92-.59-1.43-.59-.52 0-1.04.2-1.43.59L10.3 9.45l-7.72 7.72c-.78.78-.78 2.05 0 2.83L4 21.41c.39.39.9.59 1.41.59.51 0 1.02-.2 1.41-.59l7.78-7.78 2.81-2.81c.8-.78.8-2.07 0-2.86zM5.41 20L4 18.59l7.72-7.72 1.47 1.35L5.41 20z\"/>\n",
              "  </svg>\n",
              "      </button>\n",
              "      \n",
              "  <style>\n",
              "    .colab-df-container {\n",
              "      display:flex;\n",
              "      flex-wrap:wrap;\n",
              "      gap: 12px;\n",
              "    }\n",
              "\n",
              "    .colab-df-convert {\n",
              "      background-color: #E8F0FE;\n",
              "      border: none;\n",
              "      border-radius: 50%;\n",
              "      cursor: pointer;\n",
              "      display: none;\n",
              "      fill: #1967D2;\n",
              "      height: 32px;\n",
              "      padding: 0 0 0 0;\n",
              "      width: 32px;\n",
              "    }\n",
              "\n",
              "    .colab-df-convert:hover {\n",
              "      background-color: #E2EBFA;\n",
              "      box-shadow: 0px 1px 2px rgba(60, 64, 67, 0.3), 0px 1px 3px 1px rgba(60, 64, 67, 0.15);\n",
              "      fill: #174EA6;\n",
              "    }\n",
              "\n",
              "    [theme=dark] .colab-df-convert {\n",
              "      background-color: #3B4455;\n",
              "      fill: #D2E3FC;\n",
              "    }\n",
              "\n",
              "    [theme=dark] .colab-df-convert:hover {\n",
              "      background-color: #434B5C;\n",
              "      box-shadow: 0px 1px 3px 1px rgba(0, 0, 0, 0.15);\n",
              "      filter: drop-shadow(0px 1px 2px rgba(0, 0, 0, 0.3));\n",
              "      fill: #FFFFFF;\n",
              "    }\n",
              "  </style>\n",
              "\n",
              "      <script>\n",
              "        const buttonEl =\n",
              "          document.querySelector('#df-fd4dfa50-9c54-41ee-ab98-25350fe47c5a button.colab-df-convert');\n",
              "        buttonEl.style.display =\n",
              "          google.colab.kernel.accessAllowed ? 'block' : 'none';\n",
              "\n",
              "        async function convertToInteractive(key) {\n",
              "          const element = document.querySelector('#df-fd4dfa50-9c54-41ee-ab98-25350fe47c5a');\n",
              "          const dataTable =\n",
              "            await google.colab.kernel.invokeFunction('convertToInteractive',\n",
              "                                                     [key], {});\n",
              "          if (!dataTable) return;\n",
              "\n",
              "          const docLinkHtml = 'Like what you see? Visit the ' +\n",
              "            '<a target=\"_blank\" href=https://colab.research.google.com/notebooks/data_table.ipynb>data table notebook</a>'\n",
              "            + ' to learn more about interactive tables.';\n",
              "          element.innerHTML = '';\n",
              "          dataTable['output_type'] = 'display_data';\n",
              "          await google.colab.output.renderOutput(dataTable, element);\n",
              "          const docLink = document.createElement('div');\n",
              "          docLink.innerHTML = docLinkHtml;\n",
              "          element.appendChild(docLink);\n",
              "        }\n",
              "      </script>\n",
              "    </div>\n",
              "  </div>\n",
              "  "
            ]
          },
          "metadata": {},
          "execution_count": 16
        }
      ]
    },
    {
      "cell_type": "markdown",
      "source": [
        "The average `rating` for each `genre` should then be calculated separately for the rows extracted before and after the year 2008. Finally, create individual bar plots for each of them."
      ],
      "metadata": {
        "id": "XuNKJlj0Ck_C"
      }
    },
    {
      "cell_type": "code",
      "source": [
        "# Select movies that are produced after 2008\n",
        "aft_2008 = df_q1[(df_q1['p_year'] > 2008) & (df_q1.id)]\n",
        "\n",
        "# Select movies that are produced before 2008\n",
        "be4_2008 = df_q1[(df_q1['p_year'] < 2008) & (df_q1.id)]"
      ],
      "metadata": {
        "id": "Le-AD7ow85Gu"
      },
      "execution_count": 17,
      "outputs": []
    },
    {
      "cell_type": "code",
      "source": [
        "# Find the average values of rating after 2008 grouped by genre and sort the outcome with descending\n",
        "genre_df1 = aft_2008.groupby(by ='genre').agg({\"rating\":\"mean\"})\n",
        "genre_df1 = genre_df1.sort_values(by ='rating', ascending = False)\n",
        "genre_df1\n",
        "\n",
        "# Find the average values of rating before 2008 grouped by genre and sort the outcome with descending\n",
        "genre_df2 = be4_2008.groupby(by ='genre').agg({\"rating\":\"mean\"})\n",
        "genre_df2 = genre_df2.sort_values(by ='rating', ascending = False)\n",
        "genre_df2\n",
        "\n",
        "# Make barplot for the average rating of each genre\n",
        "plt.figure(figsize = (20, 8))\n",
        "plt.subplot(1, 2, 1)\n",
        "plt.title('Highest Rated Genres After 2008')\n",
        "\n",
        "sns.barplot(x = genre_df1.index, y ='rating', data = genre_df1, palette = 'Oranges')\n",
        "plt.xlabel('Genre')\n",
        "plt.ylabel('Rating in Average')\n",
        "plt.xticks(rotation = 90)\n",
        "\n",
        "plt.subplot(1, 2, 2)\n",
        "plt.title('Highest Rated Genres Before 2008')\n",
        "sns.barplot(x = genre_df2.index,y ='rating',data=genre_df2, palette = 'Blues')\n",
        "plt.xticks(rotation = 90)\n",
        "plt.xlabel('Genre')\n",
        "plt.ylabel('Rating in Average')\n",
        "plt.show()"
      ],
      "metadata": {
        "id": "qSbv7Hky64OH",
        "colab": {
          "base_uri": "https://localhost:8080/",
          "height": 574
        },
        "outputId": "1726c06b-cb04-4718-c496-91d4b829e33f"
      },
      "execution_count": 18,
      "outputs": [
        {
          "output_type": "display_data",
          "data": {
            "text/plain": [
              "<Figure size 1440x576 with 2 Axes>"
            ],
            "image/png": "[encoded data removed]"
          },
          "metadata": {
            "needs_background": "light"
          }
        }
      ]
    },
    {
      "cell_type": "markdown",
      "source": [
        "####**Answer to Question 1**\n",
        "\n",
        "\n",
        "> **The median of `p_year` in which all movies are presented is 2008. In terms of `genre`, we can see a clear difference in the audience's taste before and after 2008. Before 2018, with `Action` being first place, there is not much difference between each genre. However, after 2008, with `Talk-show` being first place, there is a huge gap between `Talk-show` and others.**\n",
        "\n"
      ],
      "metadata": {
        "id": "wM6_8QWfBRaf"
      }
    },
    {
      "cell_type": "markdown",
      "source": [
        "### **Detailed Analysis of Votes by Genre**"
      ],
      "metadata": {
        "id": "1KV-_JSqAD8V"
      }
    },
    {
      "cell_type": "code",
      "source": [
        "#Plot a graph describing total/avaerage votes of different genre. \n",
        "\n",
        "genre_group = df_q1.groupby(['genre'])\n",
        "df_q1_genreSum = genre_group.sum().sort_values('p_votes', ascending = False)\n",
        "df_q1_genreAve = genre_group.mean().sort_values('p_votes', ascending = False)\n",
        "\n",
        "fig = plt.figure(figsize = (25, 5))\n",
        "\n",
        "ax1 = fig.add_subplot(1, 2, 1)\n",
        "ax2 = fig.add_subplot(1, 2, 2)\n",
        "\n",
        "ax1.bar(df_q1_genreSum.index, df_q1_genreSum['p_votes'])\n",
        "ax1.set_xticklabels(df_q1_genreSum.index, rotation = 70, horizontalalignment = 'right', fontsize = 10)\n",
        "\n",
        "ax1.set_title('Total Votes by Genre', fontsize = 15)\n",
        "ax1.set_xlabel('Genre')\n",
        "ax1.set_ylabel('Total Votes')\n",
        "\n",
        "ax2.bar(df_q1_genreAve.index, df_q1_genreAve['p_votes'])\n",
        "ax2.set_xticklabels(df_q1_genreAve.index, rotation = 70, horizontalalignment = 'right', fontsize = 10)\n",
        "\n",
        "ax2.set_title('Average Votes by Genre', fontsize = 15)\n",
        "ax2.set_xlabel('Genre')\n",
        "ax2.set_ylabel('Average Votes')\n",
        "\n",
        "plt.show()"
      ],
      "metadata": {
        "id": "Xg5tpgop_GFF",
        "colab": {
          "base_uri": "https://localhost:8080/",
          "height": 359
        },
        "outputId": "bf74f02f-9a0b-4b17-d1a2-7a01adce95d9"
      },
      "execution_count": 19,
      "outputs": [
        {
          "output_type": "display_data",
          "data": {
            "text/plain": [
              "<Figure size 1800x360 with 2 Axes>"
            ],
            "image/png": "[encoded data removed]"
          },
          "metadata": {
            "needs_background": "light"
          }
        }
      ]
    },
    {
      "cell_type": "markdown",
      "source": [
        "### **3.2 Question 2**\n",
        "**Find the films/TV series with the highest rating in `Talk-Show` after 2008, and the films/TV series with the highest rating in `Action` before 2008.**"
      ],
      "metadata": {
        "id": "gHaPfDF1Cy6j"
      }
    },
    {
      "cell_type": "code",
      "source": [
        "# Extract rows after 2008 and genre is equal to Talk-Show\n",
        "a = aft_2008[['name', 'p_year', 'rating']][(aft_2008['p_year'] >= 2008) & (aft_2008['genre'] == 'Talk-Show')]\n",
        "a"
      ],
      "metadata": {
        "id": "isHNQUptzHvV",
        "colab": {
          "base_uri": "https://localhost:8080/",
          "height": 81
        },
        "outputId": "7608b67d-799c-403a-8f6d-dbcf608d0330"
      },
      "execution_count": 20,
      "outputs": [
        {
          "output_type": "execute_result",
          "data": {
            "text/plain": [
              "                   name  p_year  rating\n",
              "2145106  Dead Talk Live    2020     8.6"
            ],
            "text/html": [
              "\n",
              "  <div id=\"df-fdeca531-3b9a-4689-b6de-29a0c1163031\">\n",
              "    <div class=\"colab-df-container\">\n",
              "      <div>\n",
              "<style scoped>\n",
              "    .dataframe tbody tr th:only-of-type {\n",
              "        vertical-align: middle;\n",
              "    }\n",
              "\n",
              "    .dataframe tbody tr th {\n",
              "        vertical-align: top;\n",
              "    }\n",
              "\n",
              "    .dataframe thead th {\n",
              "        text-align: right;\n",
              "    }\n",
              "</style>\n",
              "<table border=\"1\" class=\"dataframe\">\n",
              "  <thead>\n",
              "    <tr style=\"text-align: right;\">\n",
              "      <th></th>\n",
              "      <th>name</th>\n",
              "      <th>p_year</th>\n",
              "      <th>rating</th>\n",
              "    </tr>\n",
              "  </thead>\n",
              "  <tbody>\n",
              "    <tr>\n",
              "      <th>2145106</th>\n",
              "      <td>Dead Talk Live</td>\n",
              "      <td>2020</td>\n",
              "      <td>8.6</td>\n",
              "    </tr>\n",
              "  </tbody>\n",
              "</table>\n",
              "</div>\n",
              "      <button class=\"colab-df-convert\" onclick=\"convertToInteractive('df-fdeca531-3b9a-4689-b6de-29a0c1163031')\"\n",
              "              title=\"Convert this dataframe to an interactive table.\"\n",
              "              style=\"display:none;\">\n",
              "        \n",
              "  <svg xmlns=\"http://www.w3.org/2000/svg\" height=\"24px\"viewBox=\"0 0 24 24\"\n",
              "       width=\"24px\">\n",
              "    <path d=\"M0 0h24v24H0V0z\" fill=\"none\"/>\n",
              "    <path d=\"M18.56 5.44l.94 2.06.94-2.06 2.06-.94-2.06-.94-.94-2.06-.94 2.06-2.06.94zm-11 1L8.5 8.5l.94-2.06 2.06-.94-2.06-.94L8.5 2.5l-.94 2.06-2.06.94zm10 10l.94 2.06.94-2.06 2.06-.94-2.06-.94-.94-2.06-.94 2.06-2.06.94z\"/><path d=\"M17.41 7.96l-1.37-1.37c-.4-.4-.92-.59-1.43-.59-.52 0-1.04.2-1.43.59L10.3 9.45l-7.72 7.72c-.78.78-.78 2.05 0 2.83L4 21.41c.39.39.9.59 1.41.59.51 0 1.02-.2 1.41-.59l7.78-7.78 2.81-2.81c.8-.78.8-2.07 0-2.86zM5.41 20L4 18.59l7.72-7.72 1.47 1.35L5.41 20z\"/>\n",
              "  </svg>\n",
              "      </button>\n",
              "      \n",
              "  <style>\n",
              "    .colab-df-container {\n",
              "      display:flex;\n",
              "      flex-wrap:wrap;\n",
              "      gap: 12px;\n",
              "    }\n",
              "\n",
              "    .colab-df-convert {\n",
              "      background-color: #E8F0FE;\n",
              "      border: none;\n",
              "      border-radius: 50%;\n",
              "      cursor: pointer;\n",
              "      display: none;\n",
              "      fill: #1967D2;\n",
              "      height: 32px;\n",
              "      padding: 0 0 0 0;\n",
              "      width: 32px;\n",
              "    }\n",
              "\n",
              "    .colab-df-convert:hover {\n",
              "      background-color: #E2EBFA;\n",
              "      box-shadow: 0px 1px 2px rgba(60, 64, 67, 0.3), 0px 1px 3px 1px rgba(60, 64, 67, 0.15);\n",
              "      fill: #174EA6;\n",
              "    }\n",
              "\n",
              "    [theme=dark] .colab-df-convert {\n",
              "      background-color: #3B4455;\n",
              "      fill: #D2E3FC;\n",
              "    }\n",
              "\n",
              "    [theme=dark] .colab-df-convert:hover {\n",
              "      background-color: #434B5C;\n",
              "      box-shadow: 0px 1px 3px 1px rgba(0, 0, 0, 0.15);\n",
              "      filter: drop-shadow(0px 1px 2px rgba(0, 0, 0, 0.3));\n",
              "      fill: #FFFFFF;\n",
              "    }\n",
              "  </style>\n",
              "\n",
              "      <script>\n",
              "        const buttonEl =\n",
              "          document.querySelector('#df-fdeca531-3b9a-4689-b6de-29a0c1163031 button.colab-df-convert');\n",
              "        buttonEl.style.display =\n",
              "          google.colab.kernel.accessAllowed ? 'block' : 'none';\n",
              "\n",
              "        async function convertToInteractive(key) {\n",
              "          const element = document.querySelector('#df-fdeca531-3b9a-4689-b6de-29a0c1163031');\n",
              "          const dataTable =\n",
              "            await google.colab.kernel.invokeFunction('convertToInteractive',\n",
              "                                                     [key], {});\n",
              "          if (!dataTable) return;\n",
              "\n",
              "          const docLinkHtml = 'Like what you see? Visit the ' +\n",
              "            '<a target=\"_blank\" href=https://colab.research.google.com/notebooks/data_table.ipynb>data table notebook</a>'\n",
              "            + ' to learn more about interactive tables.';\n",
              "          element.innerHTML = '';\n",
              "          dataTable['output_type'] = 'display_data';\n",
              "          await google.colab.output.renderOutput(dataTable, element);\n",
              "          const docLink = document.createElement('div');\n",
              "          docLink.innerHTML = docLinkHtml;\n",
              "          element.appendChild(docLink);\n",
              "        }\n",
              "      </script>\n",
              "    </div>\n",
              "  </div>\n",
              "  "
            ]
          },
          "metadata": {},
          "execution_count": 20
        }
      ]
    },
    {
      "cell_type": "code",
      "source": [
        "# Extract rows before 2008 and genre is equal to Action\n",
        "b = be4_2008[['name', 'p_year', 'rating']][(be4_2008['p_year'] < 2008 ) & (be4_2008['genre'] == 'Action')]\n",
        "b = b.sort_values(by = 'rating', ascending = False).head(10)\n",
        "\n",
        "# Create barplot for question 2\n",
        "g = sns.barplot(data = b, y = 'name', x = 'rating')\n",
        "plt.xticks(rotation = 45)\n",
        "plt.title(\"Highest Rated Action Prodcutions Before 2008\")\n",
        "plt.xlabel('Rating')\n",
        "plt.ylabel('Movie Name')\n",
        "plt.figure(figsize = (20, 8))\n",
        "plt.show()"
      ],
      "metadata": {
        "id": "ANol51_LDH5n",
        "colab": {
          "base_uri": "https://localhost:8080/",
          "height": 319
        },
        "outputId": "ca1a6c35-0ad0-4ea4-b1c8-2861c078db4f"
      },
      "execution_count": 21,
      "outputs": [
        {
          "output_type": "display_data",
          "data": {
            "text/plain": [
              "<Figure size 432x288 with 1 Axes>"
            ],
            "image/png": "[encoded data removed]"
          },
          "metadata": {
            "needs_background": "light"
          }
        },
        {
          "output_type": "display_data",
          "data": {
            "text/plain": [
              "<Figure size 1440x576 with 0 Axes>"
            ]
          },
          "metadata": {}
        }
      ]
    },
    {
      "cell_type": "markdown",
      "source": [
        "####**Answer to Question 2**\n",
        "\n",
        "\n",
        "> **From our analysis, the production with the highest rating in the genre `Talk-Show` is `Dead Talk Live`, which is interesting since there is only one product in this genre before 2008. After 2008, the genre with the highest rating: `Action` has the following show being its top-ranked list: `American Forces` , `Alex Venino` , `Buffy the Vampire Slayer`.**\n"
      ],
      "metadata": {
        "id": "-5hCnd8CGwGj"
      }
    },
    {
      "cell_type": "markdown",
      "source": [
        "***Analysis of genre and rating in movies ends here.***\n",
        "\n",
        "***Detailed analysis of certificate and rating in movies begins.***\n"
      ],
      "metadata": {
        "id": "yEG8yuphFcfs"
      }
    },
    {
      "cell_type": "markdown",
      "source": [
        "### **3.3 Question 3**\n",
        "**Which certificate has the highest average rating?**"
      ],
      "metadata": {
        "id": "UvyzZIN7QEGs"
      }
    },
    {
      "cell_type": "markdown",
      "source": [
        "There are many inappropriate certificates in the dataset, so the ones that are not adequate for analysis are removed, such as `Banned`. At the same time, ambiguous classifications such as `Passed`, `Approved` etc are also eliminated. The processed dataset in Q3 is also stored separately in a new *dataframe*: `df_q3` to avoid affecting the integrity of the original dataset."
      ],
      "metadata": {
        "id": "ymUWGs-XSV8-"
      }
    },
    {
      "cell_type": "code",
      "source": [
        "# Remove inadequate certificate\n",
        "df_q3 = df_q[(df_q['certificate'] != '(Banned)') &\n",
        "              (df_q['certificate'] != 'Passed') &\n",
        "              (df_q['certificate'] != 'Approved') &\n",
        "              (df_q['certificate'] != 'Banned') &\n",
        "              (df_q['certificate'] != 'Not Rated') &\n",
        "              (df_q['certificate'] != 'Unrated') &\n",
        "              (df_q['certificate'] != 'Open') &\n",
        "              (df_q['certificate'] != 'Not Certified')]\n",
        "\n",
        "# Remove certificate less than 1000\n",
        "df_q3 = df_q3.drop(df_q3.groupby('certificate')['rating'].filter(lambda g: g.count() < 1000).index)\n",
        "sol = df_q3.groupby('certificate')['rating'].describe().sort_values('mean', ascending = False)\n",
        "\n",
        "# Plot the graph of certificates with the highest average rating\n",
        "plt.figure(figsize=(10,8))\n",
        "g = sns.barplot(x=sol.index, y='mean',data=sol, palette = 'cubehelix')\n",
        "g.set(ylim = (0, 7.5))\n",
        "plt.xticks(rotation = 90)\n",
        "plt.title(\"Average Rating of Certificates\")\n",
        "plt.xlabel('Certificate')\n",
        "plt.ylabel('Average Rating')\n",
        "plt.show()"
      ],
      "metadata": {
        "id": "W9QPITbLQGXJ",
        "colab": {
          "base_uri": "https://localhost:8080/",
          "height": 546
        },
        "outputId": "a994bb15-76b7-442c-d9b2-b588e3c2d62b"
      },
      "execution_count": 22,
      "outputs": [
        {
          "output_type": "display_data",
          "data": {
            "text/plain": [
              "<Figure size 720x576 with 1 Axes>"
            ],
            "image/png": "[encoded data removed]"
          },
          "metadata": {
            "needs_background": "light"
          }
        }
      ]
    },
    {
      "cell_type": "markdown",
      "source": [
        "####**Answer to Question 3**\n",
        "\n",
        "> **`TV-14`, `TV-MA`, and `TV-G` certificates have the highest average rating, and the lowest average rating certificates are `R`, `PG-13`, and `PG`. Therefore, we conclude that TY series typically enjoy higher ratings than movies on average. We further  analyze the impact of duration on movies and TV series rating.**"
      ],
      "metadata": {
        "id": "xo_ag5jWG3zF"
      }
    },
    {
      "cell_type": "markdown",
      "source": [
        "### **3.4 Question 4**\n",
        "**Which certificate of movies has the highest duration on average?**"
      ],
      "metadata": {
        "id": "SUhnIRj7f2La"
      }
    },
    {
      "cell_type": "code",
      "source": [
        "# Reuse the certificate column from Question 3\n",
        "print(df_q3['certificate'].unique())\n",
        "\n",
        "# Find the average of duration and rating of movies in different certificates\n",
        "duration_certificate = df_q3.groupby(by='certificate').agg({\"p_duration\":\"mean\", 'rating':'mean'}).sort_values('p_duration', ascending = False)\n",
        "duration_certificate.head()"
      ],
      "metadata": {
        "id": "ercVPIexf4mR",
        "colab": {
          "base_uri": "https://localhost:8080/",
          "height": 273
        },
        "outputId": "7475938a-f226-4c7f-a77b-548a8512f4bd"
      },
      "execution_count": 23,
      "outputs": [
        {
          "output_type": "stream",
          "name": "stdout",
          "text": [
            "['TV-MA' 'R' 'PG-13' 'TV-14' 'PG' 'TV-PG' 'TV-Y7-FV' 'TV-G' 'TV-Y7' 'G'\n",
            " 'TV-Y']\n"
          ]
        },
        {
          "output_type": "execute_result",
          "data": {
            "text/plain": [
              "             p_duration    rating\n",
              "certificate                      \n",
              "PG-13         96.987845  5.928308\n",
              "R             96.255718  5.349929\n",
              "PG            92.868856  5.935353\n",
              "G             53.711132  6.277971\n",
              "TV-14         44.887398  7.443876"
            ],
            "text/html": [
              "\n",
              "  <div id=\"df-4d2d2603-f9dd-46df-8b61-57a225f150c8\">\n",
              "    <div class=\"colab-df-container\">\n",
              "      <div>\n",
              "<style scoped>\n",
              "    .dataframe tbody tr th:only-of-type {\n",
              "        vertical-align: middle;\n",
              "    }\n",
              "\n",
              "    .dataframe tbody tr th {\n",
              "        vertical-align: top;\n",
              "    }\n",
              "\n",
              "    .dataframe thead th {\n",
              "        text-align: right;\n",
              "    }\n",
              "</style>\n",
              "<table border=\"1\" class=\"dataframe\">\n",
              "  <thead>\n",
              "    <tr style=\"text-align: right;\">\n",
              "      <th></th>\n",
              "      <th>p_duration</th>\n",
              "      <th>rating</th>\n",
              "    </tr>\n",
              "    <tr>\n",
              "      <th>certificate</th>\n",
              "      <th></th>\n",
              "      <th></th>\n",
              "    </tr>\n",
              "  </thead>\n",
              "  <tbody>\n",
              "    <tr>\n",
              "      <th>PG-13</th>\n",
              "      <td>96.987845</td>\n",
              "      <td>5.928308</td>\n",
              "    </tr>\n",
              "    <tr>\n",
              "      <th>R</th>\n",
              "      <td>96.255718</td>\n",
              "      <td>5.349929</td>\n",
              "    </tr>\n",
              "    <tr>\n",
              "      <th>PG</th>\n",
              "      <td>92.868856</td>\n",
              "      <td>5.935353</td>\n",
              "    </tr>\n",
              "    <tr>\n",
              "      <th>G</th>\n",
              "      <td>53.711132</td>\n",
              "      <td>6.277971</td>\n",
              "    </tr>\n",
              "    <tr>\n",
              "      <th>TV-14</th>\n",
              "      <td>44.887398</td>\n",
              "      <td>7.443876</td>\n",
              "    </tr>\n",
              "  </tbody>\n",
              "</table>\n",
              "</div>\n",
              "      <button class=\"colab-df-convert\" onclick=\"convertToInteractive('df-4d2d2603-f9dd-46df-8b61-57a225f150c8')\"\n",
              "              title=\"Convert this dataframe to an interactive table.\"\n",
              "              style=\"display:none;\">\n",
              "        \n",
              "  <svg xmlns=\"http://www.w3.org/2000/svg\" height=\"24px\"viewBox=\"0 0 24 24\"\n",
              "       width=\"24px\">\n",
              "    <path d=\"M0 0h24v24H0V0z\" fill=\"none\"/>\n",
              "    <path d=\"M18.56 5.44l.94 2.06.94-2.06 2.06-.94-2.06-.94-.94-2.06-.94 2.06-2.06.94zm-11 1L8.5 8.5l.94-2.06 2.06-.94-2.06-.94L8.5 2.5l-.94 2.06-2.06.94zm10 10l.94 2.06.94-2.06 2.06-.94-2.06-.94-.94-2.06-.94 2.06-2.06.94z\"/><path d=\"M17.41 7.96l-1.37-1.37c-.4-.4-.92-.59-1.43-.59-.52 0-1.04.2-1.43.59L10.3 9.45l-7.72 7.72c-.78.78-.78 2.05 0 2.83L4 21.41c.39.39.9.59 1.41.59.51 0 1.02-.2 1.41-.59l7.78-7.78 2.81-2.81c.8-.78.8-2.07 0-2.86zM5.41 20L4 18.59l7.72-7.72 1.47 1.35L5.41 20z\"/>\n",
              "  </svg>\n",
              "      </button>\n",
              "      \n",
              "  <style>\n",
              "    .colab-df-container {\n",
              "      display:flex;\n",
              "      flex-wrap:wrap;\n",
              "      gap: 12px;\n",
              "    }\n",
              "\n",
              "    .colab-df-convert {\n",
              "      background-color: #E8F0FE;\n",
              "      border: none;\n",
              "      border-radius: 50%;\n",
              "      cursor: pointer;\n",
              "      display: none;\n",
              "      fill: #1967D2;\n",
              "      height: 32px;\n",
              "      padding: 0 0 0 0;\n",
              "      width: 32px;\n",
              "    }\n",
              "\n",
              "    .colab-df-convert:hover {\n",
              "      background-color: #E2EBFA;\n",
              "      box-shadow: 0px 1px 2px rgba(60, 64, 67, 0.3), 0px 1px 3px 1px rgba(60, 64, 67, 0.15);\n",
              "      fill: #174EA6;\n",
              "    }\n",
              "\n",
              "    [theme=dark] .colab-df-convert {\n",
              "      background-color: #3B4455;\n",
              "      fill: #D2E3FC;\n",
              "    }\n",
              "\n",
              "    [theme=dark] .colab-df-convert:hover {\n",
              "      background-color: #434B5C;\n",
              "      box-shadow: 0px 1px 3px 1px rgba(0, 0, 0, 0.15);\n",
              "      filter: drop-shadow(0px 1px 2px rgba(0, 0, 0, 0.3));\n",
              "      fill: #FFFFFF;\n",
              "    }\n",
              "  </style>\n",
              "\n",
              "      <script>\n",
              "        const buttonEl =\n",
              "          document.querySelector('#df-4d2d2603-f9dd-46df-8b61-57a225f150c8 button.colab-df-convert');\n",
              "        buttonEl.style.display =\n",
              "          google.colab.kernel.accessAllowed ? 'block' : 'none';\n",
              "\n",
              "        async function convertToInteractive(key) {\n",
              "          const element = document.querySelector('#df-4d2d2603-f9dd-46df-8b61-57a225f150c8');\n",
              "          const dataTable =\n",
              "            await google.colab.kernel.invokeFunction('convertToInteractive',\n",
              "                                                     [key], {});\n",
              "          if (!dataTable) return;\n",
              "\n",
              "          const docLinkHtml = 'Like what you see? Visit the ' +\n",
              "            '<a target=\"_blank\" href=https://colab.research.google.com/notebooks/data_table.ipynb>data table notebook</a>'\n",
              "            + ' to learn more about interactive tables.';\n",
              "          element.innerHTML = '';\n",
              "          dataTable['output_type'] = 'display_data';\n",
              "          await google.colab.output.renderOutput(dataTable, element);\n",
              "          const docLink = document.createElement('div');\n",
              "          docLink.innerHTML = docLinkHtml;\n",
              "          element.appendChild(docLink);\n",
              "        }\n",
              "      </script>\n",
              "    </div>\n",
              "  </div>\n",
              "  "
            ]
          },
          "metadata": {},
          "execution_count": 23
        }
      ]
    },
    {
      "cell_type": "code",
      "source": [
        "# Plot the relationship between duration, rating, and certificates \n",
        "sns.set(rc={'figure.figsize':(11.7,8.27)})\n",
        "sns.scatterplot(data = duration_certificate, x=duration_certificate.index, y = 'p_duration', hue = 'rating')\n",
        "plt.xticks(rotation=90)\n",
        "plt.xlabel('Certificate')\n",
        "plt.ylabel('Average Duration')\n",
        "plt.title('Duration of Certificates')\n",
        "plt.show()"
      ],
      "metadata": {
        "id": "gbL73fyLf7fu",
        "colab": {
          "base_uri": "https://localhost:8080/",
          "height": 571
        },
        "outputId": "12321868-426f-435e-f958-e853bc32b185"
      },
      "execution_count": 24,
      "outputs": [
        {
          "output_type": "display_data",
          "data": {
            "text/plain": [
              "<Figure size 842.4x595.44 with 1 Axes>"
            ],
            "image/png": "[encoded data removed]"
          },
          "metadata": {}
        }
      ]
    },
    {
      "cell_type": "markdown",
      "source": [
        "####**Answer to Question 4**\n",
        "\n",
        "> **From the graph, TV series typically enjoy higher ratings on average for a relatively lower duration while movies are rated more poorly for a longer duration on average. Especially movies with an *R* certificate, have one of the longest duration for the poorest rating on average. Interestingly, movies with a *G* certifcate have roughly the same rating with close to all TV series' duration.**"
      ],
      "metadata": {
        "id": "llIltUzpHE-t"
      }
    },
    {
      "cell_type": "markdown",
      "source": [
        "### **3.5 Question 5**\n",
        "**In addition to the factors discussed in the previous questions, such as `certificate`. Does the director influence on the movie's rating? In this dataset, we can determine the number of films each director has produced. What effect does this element have on the film rating?**"
      ],
      "metadata": {
        "id": "xliyjzME1whO"
      }
    },
    {
      "cell_type": "markdown",
      "source": [
        "**Movie Rating Problem:** There are many single-digit votes in the dataset with surprisingly high ratings."
      ],
      "metadata": {
        "id": "XFI6Nrn6Kb5V"
      }
    },
    {
      "cell_type": "markdown",
      "source": [
        "**Setting Thresholds for Movie Ratings：**The dataset selected by Q5 is similar to that of Q2, and also retains the rows with high votes to avoid excessive or low scores caused by too few votes. At the same time, Q5 processes the unknown data of the director column. ***Films with votes less than 100 are dropped***, because they are more likely than other data points to be outliers, since they are not representative enough compared to well-know films."
      ],
      "metadata": {
        "id": "gZCbrCqoimOP"
      }
    },
    {
      "cell_type": "code",
      "source": [
        "# Filter out the films with less than 100 votes\n",
        "df_q5 = df_q[df_q['p_votes'] > 100]\n",
        "\n",
        "# Reorganize the original dataframe with relevant variables for Question 5\n",
        "df_q5 = df_q5[['id', 'name', 'p_year', 'rating', 'p_votes', 'directors_id', 'directors_name']]\n",
        "\n",
        "# Transform type of directors_name and directors_id into string\n",
        "df_q5['directors_name'] = df_q5['directors_name'].astype('string')\n",
        "df_q5['directors_id'] = df_q5['directors_id'].astype('string')\n",
        "\n",
        "# Filter out the films with 'Anonymous' director\n",
        "df_q5 = df_q5[df_q5['directors_name'] != 'nm0000000']\n",
        "df_q5 = df_q5[df_q5['directors_name'] != 'Anonymous']\n",
        "\n",
        "# Some films have multiple directors, the directors_name & directors_id are then splited into multiple rows\n",
        "# so the movie id is having a one-to-many relationship with directors_name & directors_id (one movie can \n",
        "# have different directors, therefore appears in multiple rows.)\n",
        "df_q5 = (df_q5.set_index(['id', \n",
        "                          'name', \n",
        "                          'p_year', \n",
        "                          'rating', \n",
        "                          'p_votes'])\n",
        "          .apply(lambda x: x.str.split(',').explode())\n",
        "          .reset_index())                  \n",
        "\n",
        "df_q5.head()"
      ],
      "metadata": {
        "id": "1Rg276aPgGeY",
        "colab": {
          "base_uri": "https://localhost:8080/",
          "height": 206
        },
        "outputId": "ea675492-7499-4a92-8b60-f7c6dc8e3863"
      },
      "execution_count": 25,
      "outputs": [
        {
          "output_type": "execute_result",
          "data": {
            "text/plain": [
              "          id                                      name  p_year  rating  \\\n",
              "0  tt4710316              Best in Sex: 2015 AVN Awards    2015     4.0   \n",
              "1  tt1281857                          Naughty Novelist    2008     3.8   \n",
              "2  tt6843596              Best in Sex: 2017 AVN Awards    2017     4.9   \n",
              "3  tt3705604                           AVN Awards 2014    2014     6.7   \n",
              "4  tt0207195  Wadd: The Life & Times of John C. Holmes    1999     6.8   \n",
              "\n",
              "   p_votes directors_id  directors_name  \n",
              "0    124.0    nm1624094     Gary Miller  \n",
              "1    174.0    nm0045256    John Bacchus  \n",
              "2    225.0    nm1624094     Gary Miller  \n",
              "3    101.0    nm1624094     Gary Miller  \n",
              "4    907.0    nm0256178  Wesley Emerson  "
            ],
            "text/html": [
              "\n",
              "  <div id=\"df-cd67305c-e4c9-4461-b84b-341d387161cb\">\n",
              "    <div class=\"colab-df-container\">\n",
              "      <div>\n",
              "<style scoped>\n",
              "    .dataframe tbody tr th:only-of-type {\n",
              "        vertical-align: middle;\n",
              "    }\n",
              "\n",
              "    .dataframe tbody tr th {\n",
              "        vertical-align: top;\n",
              "    }\n",
              "\n",
              "    .dataframe thead th {\n",
              "        text-align: right;\n",
              "    }\n",
              "</style>\n",
              "<table border=\"1\" class=\"dataframe\">\n",
              "  <thead>\n",
              "    <tr style=\"text-align: right;\">\n",
              "      <th></th>\n",
              "      <th>id</th>\n",
              "      <th>name</th>\n",
              "      <th>p_year</th>\n",
              "      <th>rating</th>\n",
              "      <th>p_votes</th>\n",
              "      <th>directors_id</th>\n",
              "      <th>directors_name</th>\n",
              "    </tr>\n",
              "  </thead>\n",
              "  <tbody>\n",
              "    <tr>\n",
              "      <th>0</th>\n",
              "      <td>tt4710316</td>\n",
              "      <td>Best in Sex: 2015 AVN Awards</td>\n",
              "      <td>2015</td>\n",
              "      <td>4.0</td>\n",
              "      <td>124.0</td>\n",
              "      <td>nm1624094</td>\n",
              "      <td>Gary Miller</td>\n",
              "    </tr>\n",
              "    <tr>\n",
              "      <th>1</th>\n",
              "      <td>tt1281857</td>\n",
              "      <td>Naughty Novelist</td>\n",
              "      <td>2008</td>\n",
              "      <td>3.8</td>\n",
              "      <td>174.0</td>\n",
              "      <td>nm0045256</td>\n",
              "      <td>John Bacchus</td>\n",
              "    </tr>\n",
              "    <tr>\n",
              "      <th>2</th>\n",
              "      <td>tt6843596</td>\n",
              "      <td>Best in Sex: 2017 AVN Awards</td>\n",
              "      <td>2017</td>\n",
              "      <td>4.9</td>\n",
              "      <td>225.0</td>\n",
              "      <td>nm1624094</td>\n",
              "      <td>Gary Miller</td>\n",
              "    </tr>\n",
              "    <tr>\n",
              "      <th>3</th>\n",
              "      <td>tt3705604</td>\n",
              "      <td>AVN Awards 2014</td>\n",
              "      <td>2014</td>\n",
              "      <td>6.7</td>\n",
              "      <td>101.0</td>\n",
              "      <td>nm1624094</td>\n",
              "      <td>Gary Miller</td>\n",
              "    </tr>\n",
              "    <tr>\n",
              "      <th>4</th>\n",
              "      <td>tt0207195</td>\n",
              "      <td>Wadd: The Life &amp; Times of John C. Holmes</td>\n",
              "      <td>1999</td>\n",
              "      <td>6.8</td>\n",
              "      <td>907.0</td>\n",
              "      <td>nm0256178</td>\n",
              "      <td>Wesley Emerson</td>\n",
              "    </tr>\n",
              "  </tbody>\n",
              "</table>\n",
              "</div>\n",
              "      <button class=\"colab-df-convert\" onclick=\"convertToInteractive('df-cd67305c-e4c9-4461-b84b-341d387161cb')\"\n",
              "              title=\"Convert this dataframe to an interactive table.\"\n",
              "              style=\"display:none;\">\n",
              "        \n",
              "  <svg xmlns=\"http://www.w3.org/2000/svg\" height=\"24px\"viewBox=\"0 0 24 24\"\n",
              "       width=\"24px\">\n",
              "    <path d=\"M0 0h24v24H0V0z\" fill=\"none\"/>\n",
              "    <path d=\"M18.56 5.44l.94 2.06.94-2.06 2.06-.94-2.06-.94-.94-2.06-.94 2.06-2.06.94zm-11 1L8.5 8.5l.94-2.06 2.06-.94-2.06-.94L8.5 2.5l-.94 2.06-2.06.94zm10 10l.94 2.06.94-2.06 2.06-.94-2.06-.94-.94-2.06-.94 2.06-2.06.94z\"/><path d=\"M17.41 7.96l-1.37-1.37c-.4-.4-.92-.59-1.43-.59-.52 0-1.04.2-1.43.59L10.3 9.45l-7.72 7.72c-.78.78-.78 2.05 0 2.83L4 21.41c.39.39.9.59 1.41.59.51 0 1.02-.2 1.41-.59l7.78-7.78 2.81-2.81c.8-.78.8-2.07 0-2.86zM5.41 20L4 18.59l7.72-7.72 1.47 1.35L5.41 20z\"/>\n",
              "  </svg>\n",
              "      </button>\n",
              "      \n",
              "  <style>\n",
              "    .colab-df-container {\n",
              "      display:flex;\n",
              "      flex-wrap:wrap;\n",
              "      gap: 12px;\n",
              "    }\n",
              "\n",
              "    .colab-df-convert {\n",
              "      background-color: #E8F0FE;\n",
              "      border: none;\n",
              "      border-radius: 50%;\n",
              "      cursor: pointer;\n",
              "      display: none;\n",
              "      fill: #1967D2;\n",
              "      height: 32px;\n",
              "      padding: 0 0 0 0;\n",
              "      width: 32px;\n",
              "    }\n",
              "\n",
              "    .colab-df-convert:hover {\n",
              "      background-color: #E2EBFA;\n",
              "      box-shadow: 0px 1px 2px rgba(60, 64, 67, 0.3), 0px 1px 3px 1px rgba(60, 64, 67, 0.15);\n",
              "      fill: #174EA6;\n",
              "    }\n",
              "\n",
              "    [theme=dark] .colab-df-convert {\n",
              "      background-color: #3B4455;\n",
              "      fill: #D2E3FC;\n",
              "    }\n",
              "\n",
              "    [theme=dark] .colab-df-convert:hover {\n",
              "      background-color: #434B5C;\n",
              "      box-shadow: 0px 1px 3px 1px rgba(0, 0, 0, 0.15);\n",
              "      filter: drop-shadow(0px 1px 2px rgba(0, 0, 0, 0.3));\n",
              "      fill: #FFFFFF;\n",
              "    }\n",
              "  </style>\n",
              "\n",
              "      <script>\n",
              "        const buttonEl =\n",
              "          document.querySelector('#df-cd67305c-e4c9-4461-b84b-341d387161cb button.colab-df-convert');\n",
              "        buttonEl.style.display =\n",
              "          google.colab.kernel.accessAllowed ? 'block' : 'none';\n",
              "\n",
              "        async function convertToInteractive(key) {\n",
              "          const element = document.querySelector('#df-cd67305c-e4c9-4461-b84b-341d387161cb');\n",
              "          const dataTable =\n",
              "            await google.colab.kernel.invokeFunction('convertToInteractive',\n",
              "                                                     [key], {});\n",
              "          if (!dataTable) return;\n",
              "\n",
              "          const docLinkHtml = 'Like what you see? Visit the ' +\n",
              "            '<a target=\"_blank\" href=https://colab.research.google.com/notebooks/data_table.ipynb>data table notebook</a>'\n",
              "            + ' to learn more about interactive tables.';\n",
              "          element.innerHTML = '';\n",
              "          dataTable['output_type'] = 'display_data';\n",
              "          await google.colab.output.renderOutput(dataTable, element);\n",
              "          const docLink = document.createElement('div');\n",
              "          docLink.innerHTML = docLinkHtml;\n",
              "          element.appendChild(docLink);\n",
              "        }\n",
              "      </script>\n",
              "    </div>\n",
              "  </div>\n",
              "  "
            ]
          },
          "metadata": {},
          "execution_count": 25
        }
      ]
    },
    {
      "cell_type": "code",
      "source": [
        "# Count the number of films have been directed by each director\n",
        "dic_df1 = df_q5.groupby(by ='directors_name').agg({\"id\":\"count\" , \"rating\":\"mean\"})\n",
        "dic_df1 = dic_df1.sort_values(by = 'id', ascending = False)\n",
        "dic_df1 = dic_df1.head(50)\n",
        "\n",
        "# Make lineplot to try to find a linear relationship between average ratings and the number of films each director has directed\n",
        "sns.set(rc={'figure.figsize':(11.7,8.27)})\n",
        "ax = sns.lineplot(data = dic_df1, x=dic_df1.index, y = 'rating')\n",
        "ax.set_xticks([])\n",
        "plt.xticks(rotation=90)\n",
        "plt.xlabel('Name Ranked by the Number of Films')\n",
        "plt.title('''Average Rating Trend of Director's Products''')\n",
        "plt.ylabel('Average Rating')\n",
        "plt.show()"
      ],
      "metadata": {
        "id": "jyLeb8LF1yAr",
        "colab": {
          "base_uri": "https://localhost:8080/",
          "height": 513
        },
        "outputId": "7f00625a-b663-41df-b869-cd8c146e3f8b"
      },
      "execution_count": 26,
      "outputs": [
        {
          "output_type": "display_data",
          "data": {
            "text/plain": [
              "<Figure size 842.4x595.44 with 1 Axes>"
            ],
            "image/png": "[encoded data removed]"
          },
          "metadata": {}
        }
      ]
    },
    {
      "cell_type": "markdown",
      "source": [
        "####**Answer to Question 5**\n",
        "\n",
        "\n",
        "> **The linear relationship in the figure leads to the conclusion that the `rating` and the director's total number of films are not clearly correlated.**\n",
        "\n",
        "###**Note: The number of movies that the director has directed decreases from left to right in the graph above.**\n"
      ],
      "metadata": {
        "id": "8UdwdeT-6_hl"
      }
    },
    {
      "cell_type": "markdown",
      "source": [
        "##**4. Conclusion**\n",
        "**By analyzing the influence of `genre`, `certificate`, `duration`, and director on a production's rating, we conclude that after 2008, the audience's taste in genres changed from Action productions to TV-Shows. In certificates, TV series typically enjoy higher ratings on average for a relatively lower duration while movies are rated more poorly for a longer duration on average. From our findings on directors, we conclude that the number of films a director has produced does not have a relationship with the ratings of those films.**\n",
        "\n",
        "**We make the following recommendations to the production companies based on our analysis:**\n",
        "1. **Consumers' habit of watching a production in their leisure time has evolved from *action movies*/*tv-series* to *talk-shows*.**\n",
        "1. **TV-series with shorter duration usually have a better chance of obtaining a higher rating than movies with a longer duration.**\n",
        "1. **A director's total number of production has little to no effect on the quality of those productions, companies should not value too much on the number of productions.**"
      ],
      "metadata": {
        "id": "LiMkLVfp10H1"
      }
    },
    {
      "cell_type": "markdown",
      "source": [
        "## **5. Reference**"
      ],
      "metadata": {
        "id": "8v8CayWo55Mx"
      }
    },
    {
      "cell_type": "markdown",
      "source": [
        "[1] IMDB weibsite: https://www.imdb.com/?ref_=nv_home\n",
        "\n",
        "[2] Top 250 films: https://www.imdb.com/chart/top/\n",
        "\n",
        "[3] Film rating system: https://www.motionpictures.org/film-ratings/\n",
        "\n",
        "[4] Jargons definition: https://help.imdb.com/article/contribution/titles/certificates/GU757M8ZJ9ZPXB39?ref_=helpart_nav_27#\n"
      ],
      "metadata": {
        "id": "qhfSzbbB30TK"
      }
    }
  ]
}